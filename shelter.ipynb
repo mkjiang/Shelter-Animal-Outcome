{
 "cells": [
  {
   "cell_type": "markdown",
   "metadata": {
    "deletable": true,
    "editable": true
   },
   "source": [
    "# Shelter Animal Outcome #"
   ]
  },
  {
   "cell_type": "markdown",
   "metadata": {
    "deletable": true,
    "editable": true
   },
   "source": [
    "A lot can be done in terms of feature engineering in this project and I have only explored a few. Here are some more ideas:\n",
    "\n",
    "- Breed can be further explored by having more features. The 'breed2' or 'breed1/breed2' mix can be retained as opposed to being discarded. The same applies to Color. Perhaps hair length can also be an important feature (longer hair are more desirable?) which can be deducted from Breed. \n",
    "- DateTime could also be a useful feature which was not used here. \n",
    "\n",
    "Missing ages are filled using Random Forest Regressor whereas the actual multi-class prediction was done using Random Forest Classifier."
   ]
  },
  {
   "cell_type": "code",
   "execution_count": 1,
   "metadata": {
    "collapsed": false,
    "deletable": true,
    "editable": true
   },
   "outputs": [],
   "source": [
    "import pandas as pd\n",
    "import numpy as np\n",
    "import seaborn as sns\n",
    "from IPython.display import Image\n",
    "\n",
    "import matplotlib.pyplot as plt\n",
    "%matplotlib inline\n",
    "\n",
    "from sklearn.preprocessing import LabelEncoder\n",
    "from sklearn.ensemble import RandomForestClassifier\n",
    "from sklearn.ensemble import RandomForestRegressor\n",
    "from sklearn.model_selection import GridSearchCV\n",
    "from sklearn.metrics import log_loss\n",
    "from sklearn.metrics import mean_squared_error\n",
    "from sklearn.tree import export_graphviz\n",
    "\n",
    "import sys\n",
    "sys.path.insert(0, '/home/ubuntu/.jupyter')\n",
    "from plot_learning_curve import plot_learning_curve"
   ]
  },
  {
   "cell_type": "code",
   "execution_count": 2,
   "metadata": {
    "collapsed": false,
    "deletable": true,
    "editable": true
   },
   "outputs": [],
   "source": [
    "df_train = pd.read_csv('train.csv', header=0)\n",
    "df_test = pd.read_csv('test.csv', header=0)"
   ]
  },
  {
   "cell_type": "code",
   "execution_count": 4,
   "metadata": {
    "collapsed": false,
    "deletable": true,
    "editable": true
   },
   "outputs": [
    {
     "data": {
      "text/html": [
       "<div>\n",
       "<table border=\"1\" class=\"dataframe\">\n",
       "  <thead>\n",
       "    <tr style=\"text-align: right;\">\n",
       "      <th></th>\n",
       "      <th>AnimalID</th>\n",
       "      <th>Name</th>\n",
       "      <th>DateTime</th>\n",
       "      <th>OutcomeType</th>\n",
       "      <th>OutcomeSubtype</th>\n",
       "      <th>AnimalType</th>\n",
       "      <th>SexuponOutcome</th>\n",
       "      <th>AgeuponOutcome</th>\n",
       "      <th>Breed</th>\n",
       "      <th>Color</th>\n",
       "    </tr>\n",
       "  </thead>\n",
       "  <tbody>\n",
       "    <tr>\n",
       "      <th>0</th>\n",
       "      <td>A671945</td>\n",
       "      <td>Hambone</td>\n",
       "      <td>2014-02-12 18:22:00</td>\n",
       "      <td>Return_to_owner</td>\n",
       "      <td>NaN</td>\n",
       "      <td>Dog</td>\n",
       "      <td>Neutered Male</td>\n",
       "      <td>1 year</td>\n",
       "      <td>Shetland Sheepdog Mix</td>\n",
       "      <td>Brown/White</td>\n",
       "    </tr>\n",
       "    <tr>\n",
       "      <th>1</th>\n",
       "      <td>A656520</td>\n",
       "      <td>Emily</td>\n",
       "      <td>2013-10-13 12:44:00</td>\n",
       "      <td>Euthanasia</td>\n",
       "      <td>Suffering</td>\n",
       "      <td>Cat</td>\n",
       "      <td>Spayed Female</td>\n",
       "      <td>1 year</td>\n",
       "      <td>Domestic Shorthair Mix</td>\n",
       "      <td>Cream Tabby</td>\n",
       "    </tr>\n",
       "    <tr>\n",
       "      <th>2</th>\n",
       "      <td>A686464</td>\n",
       "      <td>Pearce</td>\n",
       "      <td>2015-01-31 12:28:00</td>\n",
       "      <td>Adoption</td>\n",
       "      <td>Foster</td>\n",
       "      <td>Dog</td>\n",
       "      <td>Neutered Male</td>\n",
       "      <td>2 years</td>\n",
       "      <td>Pit Bull Mix</td>\n",
       "      <td>Blue/White</td>\n",
       "    </tr>\n",
       "    <tr>\n",
       "      <th>3</th>\n",
       "      <td>A683430</td>\n",
       "      <td>NaN</td>\n",
       "      <td>2014-07-11 19:09:00</td>\n",
       "      <td>Transfer</td>\n",
       "      <td>Partner</td>\n",
       "      <td>Cat</td>\n",
       "      <td>Intact Male</td>\n",
       "      <td>3 weeks</td>\n",
       "      <td>Domestic Shorthair Mix</td>\n",
       "      <td>Blue Cream</td>\n",
       "    </tr>\n",
       "    <tr>\n",
       "      <th>4</th>\n",
       "      <td>A667013</td>\n",
       "      <td>NaN</td>\n",
       "      <td>2013-11-15 12:52:00</td>\n",
       "      <td>Transfer</td>\n",
       "      <td>Partner</td>\n",
       "      <td>Dog</td>\n",
       "      <td>Neutered Male</td>\n",
       "      <td>2 years</td>\n",
       "      <td>Lhasa Apso/Miniature Poodle</td>\n",
       "      <td>Tan</td>\n",
       "    </tr>\n",
       "  </tbody>\n",
       "</table>\n",
       "</div>"
      ],
      "text/plain": [
       "  AnimalID     Name             DateTime      OutcomeType OutcomeSubtype  \\\n",
       "0  A671945  Hambone  2014-02-12 18:22:00  Return_to_owner            NaN   \n",
       "1  A656520    Emily  2013-10-13 12:44:00       Euthanasia      Suffering   \n",
       "2  A686464   Pearce  2015-01-31 12:28:00         Adoption         Foster   \n",
       "3  A683430      NaN  2014-07-11 19:09:00         Transfer        Partner   \n",
       "4  A667013      NaN  2013-11-15 12:52:00         Transfer        Partner   \n",
       "\n",
       "  AnimalType SexuponOutcome AgeuponOutcome                        Breed  \\\n",
       "0        Dog  Neutered Male         1 year        Shetland Sheepdog Mix   \n",
       "1        Cat  Spayed Female         1 year       Domestic Shorthair Mix   \n",
       "2        Dog  Neutered Male        2 years                 Pit Bull Mix   \n",
       "3        Cat    Intact Male        3 weeks       Domestic Shorthair Mix   \n",
       "4        Dog  Neutered Male        2 years  Lhasa Apso/Miniature Poodle   \n",
       "\n",
       "         Color  \n",
       "0  Brown/White  \n",
       "1  Cream Tabby  \n",
       "2   Blue/White  \n",
       "3   Blue Cream  \n",
       "4          Tan  "
      ]
     },
     "execution_count": 4,
     "metadata": {},
     "output_type": "execute_result"
    }
   ],
   "source": [
    "df_train.head()"
   ]
  },
  {
   "cell_type": "code",
   "execution_count": 4,
   "metadata": {
    "collapsed": false,
    "deletable": true,
    "editable": true
   },
   "outputs": [
    {
     "data": {
      "text/html": [
       "<div>\n",
       "<table border=\"1\" class=\"dataframe\">\n",
       "  <thead>\n",
       "    <tr style=\"text-align: right;\">\n",
       "      <th></th>\n",
       "      <th>ID</th>\n",
       "      <th>Name</th>\n",
       "      <th>DateTime</th>\n",
       "      <th>AnimalType</th>\n",
       "      <th>SexuponOutcome</th>\n",
       "      <th>AgeuponOutcome</th>\n",
       "      <th>Breed</th>\n",
       "      <th>Color</th>\n",
       "    </tr>\n",
       "  </thead>\n",
       "  <tbody>\n",
       "    <tr>\n",
       "      <th>0</th>\n",
       "      <td>1</td>\n",
       "      <td>Summer</td>\n",
       "      <td>2015-10-12 12:15:00</td>\n",
       "      <td>Dog</td>\n",
       "      <td>Intact Female</td>\n",
       "      <td>10 months</td>\n",
       "      <td>Labrador Retriever Mix</td>\n",
       "      <td>Red/White</td>\n",
       "    </tr>\n",
       "    <tr>\n",
       "      <th>1</th>\n",
       "      <td>2</td>\n",
       "      <td>Cheyenne</td>\n",
       "      <td>2014-07-26 17:59:00</td>\n",
       "      <td>Dog</td>\n",
       "      <td>Spayed Female</td>\n",
       "      <td>2 years</td>\n",
       "      <td>German Shepherd/Siberian Husky</td>\n",
       "      <td>Black/Tan</td>\n",
       "    </tr>\n",
       "    <tr>\n",
       "      <th>2</th>\n",
       "      <td>3</td>\n",
       "      <td>Gus</td>\n",
       "      <td>2016-01-13 12:20:00</td>\n",
       "      <td>Cat</td>\n",
       "      <td>Neutered Male</td>\n",
       "      <td>1 year</td>\n",
       "      <td>Domestic Shorthair Mix</td>\n",
       "      <td>Brown Tabby</td>\n",
       "    </tr>\n",
       "    <tr>\n",
       "      <th>3</th>\n",
       "      <td>4</td>\n",
       "      <td>Pongo</td>\n",
       "      <td>2013-12-28 18:12:00</td>\n",
       "      <td>Dog</td>\n",
       "      <td>Intact Male</td>\n",
       "      <td>4 months</td>\n",
       "      <td>Collie Smooth Mix</td>\n",
       "      <td>Tricolor</td>\n",
       "    </tr>\n",
       "    <tr>\n",
       "      <th>4</th>\n",
       "      <td>5</td>\n",
       "      <td>Skooter</td>\n",
       "      <td>2015-09-24 17:59:00</td>\n",
       "      <td>Dog</td>\n",
       "      <td>Neutered Male</td>\n",
       "      <td>2 years</td>\n",
       "      <td>Miniature Poodle Mix</td>\n",
       "      <td>White</td>\n",
       "    </tr>\n",
       "  </tbody>\n",
       "</table>\n",
       "</div>"
      ],
      "text/plain": [
       "   ID      Name             DateTime AnimalType SexuponOutcome AgeuponOutcome  \\\n",
       "0   1    Summer  2015-10-12 12:15:00        Dog  Intact Female      10 months   \n",
       "1   2  Cheyenne  2014-07-26 17:59:00        Dog  Spayed Female        2 years   \n",
       "2   3       Gus  2016-01-13 12:20:00        Cat  Neutered Male         1 year   \n",
       "3   4     Pongo  2013-12-28 18:12:00        Dog    Intact Male       4 months   \n",
       "4   5   Skooter  2015-09-24 17:59:00        Dog  Neutered Male        2 years   \n",
       "\n",
       "                            Breed        Color  \n",
       "0          Labrador Retriever Mix    Red/White  \n",
       "1  German Shepherd/Siberian Husky    Black/Tan  \n",
       "2          Domestic Shorthair Mix  Brown Tabby  \n",
       "3               Collie Smooth Mix     Tricolor  \n",
       "4            Miniature Poodle Mix        White  "
      ]
     },
     "execution_count": 4,
     "metadata": {},
     "output_type": "execute_result"
    }
   ],
   "source": [
    "df_test.head()"
   ]
  },
  {
   "cell_type": "markdown",
   "metadata": {
    "deletable": true,
    "editable": true
   },
   "source": [
    "First glance at these data we know that Breed and Color definetely need some feature engineering."
   ]
  },
  {
   "cell_type": "code",
   "execution_count": 5,
   "metadata": {
    "collapsed": false,
    "deletable": true,
    "editable": true
   },
   "outputs": [
    {
     "name": "stdout",
     "output_type": "stream",
     "text": [
      "<class 'pandas.core.frame.DataFrame'>\n",
      "RangeIndex: 26729 entries, 0 to 26728\n",
      "Data columns (total 10 columns):\n",
      "AnimalID          26729 non-null object\n",
      "Name              19038 non-null object\n",
      "DateTime          26729 non-null object\n",
      "OutcomeType       26729 non-null object\n",
      "OutcomeSubtype    13117 non-null object\n",
      "AnimalType        26729 non-null object\n",
      "SexuponOutcome    26728 non-null object\n",
      "AgeuponOutcome    26711 non-null object\n",
      "Breed             26729 non-null object\n",
      "Color             26729 non-null object\n",
      "dtypes: object(10)\n",
      "memory usage: 1.0+ MB\n"
     ]
    }
   ],
   "source": [
    "df_train.info()"
   ]
  },
  {
   "cell_type": "markdown",
   "metadata": {
    "deletable": true,
    "editable": true
   },
   "source": [
    "## Exploratory Data Analysis ##"
   ]
  },
  {
   "cell_type": "code",
   "execution_count": 6,
   "metadata": {
    "collapsed": false,
    "deletable": true,
    "editable": true
   },
   "outputs": [
    {
     "data": {
      "text/plain": [
       "<matplotlib.axes._subplots.AxesSubplot at 0x716c9b30>"
      ]
     },
     "execution_count": 6,
     "metadata": {},
     "output_type": "execute_result"
    },
    {
     "name": "stderr",
     "output_type": "stream",
     "text": [
      "/usr/local/lib/python3.6/site-packages/matplotlib/font_manager.py:1297: UserWarning: findfont: Font family ['sans-serif'] not found. Falling back to DejaVu Sans\n",
      "  (prop.get_family(), self.defaultFamily[fontext]))\n"
     ]
    },
    {
     "data": {
      "image/png": "[encoded data removed]",
      "text/plain": [
       "<matplotlib.figure.Figure at 0x6ca7e490>"
      ]
     },
     "metadata": {},
     "output_type": "display_data"
    }
   ],
   "source": [
    "df_train.OutcomeType.value_counts().plot(kind='barh', alpha=0.5)"
   ]
  },
  {
   "cell_type": "markdown",
   "metadata": {
    "deletable": true,
    "editable": true
   },
   "source": [
    "Multi classification problem."
   ]
  },
  {
   "cell_type": "code",
   "execution_count": 7,
   "metadata": {
    "collapsed": false,
    "deletable": true,
    "editable": true
   },
   "outputs": [
    {
     "data": {
      "text/plain": [
       "<matplotlib.axes._subplots.AxesSubplot at 0x6ca2dbb0>"
      ]
     },
     "execution_count": 7,
     "metadata": {},
     "output_type": "execute_result"
    },
    {
     "name": "stderr",
     "output_type": "stream",
     "text": [
      "/usr/local/lib/python3.6/site-packages/matplotlib/font_manager.py:1297: UserWarning: findfont: Font family ['sans-serif'] not found. Falling back to DejaVu Sans\n",
      "  (prop.get_family(), self.defaultFamily[fontext]))\n"
     ]
    },
    {
     "data": {
      "image/png": "[encoded data removed]",
      "text/plain": [
       "<matplotlib.figure.Figure at 0x6c88fff0>"
      ]
     },
     "metadata": {},
     "output_type": "display_data"
    }
   ],
   "source": [
    "sns.countplot(df_train.OutcomeType, palette='Set3')"
   ]
  },
  {
   "cell_type": "code",
   "execution_count": 8,
   "metadata": {
    "collapsed": false,
    "deletable": true,
    "editable": true
   },
   "outputs": [
    {
     "data": {
      "text/plain": [
       "<matplotlib.axes._subplots.AxesSubplot at 0x6c97c070>"
      ]
     },
     "execution_count": 8,
     "metadata": {},
     "output_type": "execute_result"
    },
    {
     "name": "stderr",
     "output_type": "stream",
     "text": [
      "/usr/local/lib/python3.6/site-packages/matplotlib/font_manager.py:1297: UserWarning: findfont: Font family ['sans-serif'] not found. Falling back to DejaVu Sans\n",
      "  (prop.get_family(), self.defaultFamily[fontext]))\n"
     ]
    },
    {
     "data": {
      "image/png": "[encoded data removed]",
      "text/plain": [
       "<matplotlib.figure.Figure at 0x6c6918b0>"
      ]
     },
     "metadata": {},
     "output_type": "display_data"
    }
   ],
   "source": [
    "df_train.OutcomeSubtype.value_counts().plot(kind='barh', alpha=0.5)"
   ]
  },
  {
   "cell_type": "code",
   "execution_count": 9,
   "metadata": {
    "collapsed": false,
    "deletable": true,
    "editable": true
   },
   "outputs": [
    {
     "data": {
      "text/plain": [
       "<matplotlib.axes._subplots.AxesSubplot at 0x6c60c5d0>"
      ]
     },
     "execution_count": 9,
     "metadata": {},
     "output_type": "execute_result"
    },
    {
     "name": "stderr",
     "output_type": "stream",
     "text": [
      "/usr/local/lib/python3.6/site-packages/matplotlib/font_manager.py:1297: UserWarning: findfont: Font family ['sans-serif'] not found. Falling back to DejaVu Sans\n",
      "  (prop.get_family(), self.defaultFamily[fontext]))\n"
     ]
    },
    {
     "data": {
      "image/png": "[encoded data removed]",
      "text/plain": [
       "<matplotlib.figure.Figure at 0x6c691cd0>"
      ]
     },
     "metadata": {},
     "output_type": "display_data"
    }
   ],
   "source": [
    "df_train.SexuponOutcome.value_counts().plot(kind='barh', alpha=0.5)"
   ]
  },
  {
   "cell_type": "code",
   "execution_count": 9,
   "metadata": {
    "collapsed": false,
    "deletable": true,
    "editable": true
   },
   "outputs": [
    {
     "data": {
      "text/plain": [
       "<matplotlib.axes._subplots.AxesSubplot at 0x69e3a950>"
      ]
     },
     "execution_count": 9,
     "metadata": {},
     "output_type": "execute_result"
    },
    {
     "data": {
      "image/png": "[encoded data removed]",
      "text/plain": [
       "<matplotlib.figure.Figure at 0x69e3dcb0>"
      ]
     },
     "metadata": {},
     "output_type": "display_data"
    }
   ],
   "source": [
    "df_train.Breed.value_counts().plot(kind='barh', alpha=0.5)"
   ]
  },
  {
   "cell_type": "code",
   "execution_count": 4,
   "metadata": {
    "collapsed": false,
    "deletable": true,
    "editable": true
   },
   "outputs": [
    {
     "data": {
      "text/plain": [
       "1380"
      ]
     },
     "execution_count": 4,
     "metadata": {},
     "output_type": "execute_result"
    }
   ],
   "source": [
    "len(df_train.Breed.unique())"
   ]
  },
  {
   "cell_type": "markdown",
   "metadata": {
    "deletable": true,
    "editable": true
   },
   "source": [
    "Way too many Breed. Need to do something about this."
   ]
  },
  {
   "cell_type": "code",
   "execution_count": 10,
   "metadata": {
    "collapsed": false,
    "deletable": true,
    "editable": true,
    "scrolled": true
   },
   "outputs": [
    {
     "data": {
      "text/plain": [
       "False    701\n",
       "True     679\n",
       "Name: Breed, dtype: int64"
      ]
     },
     "execution_count": 10,
     "metadata": {},
     "output_type": "execute_result"
    }
   ],
   "source": [
    "(df_train.Breed.value_counts() < 2).value_counts()"
   ]
  },
  {
   "cell_type": "markdown",
   "metadata": {
    "deletable": true,
    "editable": true
   },
   "source": [
    "Almost half of the animals are in its own Breed category."
   ]
  },
  {
   "cell_type": "code",
   "execution_count": 11,
   "metadata": {
    "collapsed": false,
    "deletable": true,
    "editable": true
   },
   "outputs": [
    {
     "data": {
      "text/plain": [
       "<matplotlib.axes._subplots.AxesSubplot at 0x69da9370>"
      ]
     },
     "execution_count": 11,
     "metadata": {},
     "output_type": "execute_result"
    },
    {
     "data": {
      "image/png": "[encoded data removed]",
      "text/plain": [
       "<matplotlib.figure.Figure at 0x69e3df70>"
      ]
     },
     "metadata": {},
     "output_type": "display_data"
    }
   ],
   "source": [
    "df_train.Color.value_counts().plot(kind='barh', alpha=0.5)"
   ]
  },
  {
   "cell_type": "code",
   "execution_count": 5,
   "metadata": {
    "collapsed": false,
    "deletable": true,
    "editable": true
   },
   "outputs": [
    {
     "data": {
      "text/plain": [
       "366"
      ]
     },
     "execution_count": 5,
     "metadata": {},
     "output_type": "execute_result"
    }
   ],
   "source": [
    "len(df_train.Color.unique())"
   ]
  },
  {
   "cell_type": "code",
   "execution_count": 12,
   "metadata": {
    "collapsed": false,
    "deletable": true,
    "editable": true
   },
   "outputs": [
    {
     "data": {
      "text/plain": [
       "False    247\n",
       "True     119\n",
       "Name: Color, dtype: int64"
      ]
     },
     "execution_count": 12,
     "metadata": {},
     "output_type": "execute_result"
    }
   ],
   "source": [
    "(df_train.Color.value_counts() < 2).value_counts()"
   ]
  },
  {
   "cell_type": "markdown",
   "metadata": {
    "deletable": true,
    "editable": true
   },
   "source": [
    "Again, a lot of colours. Need to do something about it."
   ]
  },
  {
   "cell_type": "code",
   "execution_count": 6,
   "metadata": {
    "collapsed": false,
    "deletable": true,
    "editable": true
   },
   "outputs": [
    {
     "data": {
      "text/plain": [
       "<matplotlib.axes._subplots.AxesSubplot at 0x7257ae90>"
      ]
     },
     "execution_count": 6,
     "metadata": {},
     "output_type": "execute_result"
    },
    {
     "data": {
      "image/png": "[encoded data removed]",
      "text/plain": [
       "<matplotlib.figure.Figure at 0x69cd4330>"
      ]
     },
     "metadata": {},
     "output_type": "display_data"
    }
   ],
   "source": [
    "sns.countplot(x=\"OutcomeType\",data=df_train_cp)"
   ]
  },
  {
   "cell_type": "code",
   "execution_count": 13,
   "metadata": {
    "collapsed": false,
    "deletable": true,
    "editable": true
   },
   "outputs": [
    {
     "data": {
      "text/plain": [
       "<matplotlib.axes._subplots.AxesSubplot at 0x6c6686b0>"
      ]
     },
     "execution_count": 13,
     "metadata": {},
     "output_type": "execute_result"
    },
    {
     "name": "stderr",
     "output_type": "stream",
     "text": [
      "/usr/local/lib/python3.6/site-packages/matplotlib/font_manager.py:1297: UserWarning: findfont: Font family ['sans-serif'] not found. Falling back to DejaVu Sans\n",
      "  (prop.get_family(), self.defaultFamily[fontext]))\n"
     ]
    },
    {
     "data": {
      "image/png": "[encoded data removed]",
      "text/plain": [
       "<matplotlib.figure.Figure at 0x6c185530>"
      ]
     },
     "metadata": {},
     "output_type": "display_data"
    }
   ],
   "source": [
    "f, (ax1, ax2) = plt.subplots(1, 2, figsize=(16, 4))\n",
    "sns.countplot(data=df_train, x='OutcomeType',hue='SexuponOutcome', ax=ax1)\n",
    "sns.countplot(data=df_train, x='SexuponOutcome',hue='OutcomeType', ax=ax2)"
   ]
  },
  {
   "cell_type": "markdown",
   "metadata": {},
   "source": [
    "Neutered Male and Spayed Female are more likely to get adopted."
   ]
  },
  {
   "cell_type": "markdown",
   "metadata": {
    "deletable": true,
    "editable": true
   },
   "source": [
    "## Feature Engineering ##"
   ]
  },
  {
   "cell_type": "markdown",
   "metadata": {
    "deletable": true,
    "editable": true
   },
   "source": [
    "Fist, sex into sex and intact"
   ]
  },
  {
   "cell_type": "code",
   "execution_count": 3,
   "metadata": {
    "collapsed": false,
    "deletable": true,
    "editable": true
   },
   "outputs": [
    {
     "name": "stdout",
     "output_type": "stream",
     "text": [
      "<class 'pandas.core.frame.DataFrame'>\n",
      "RangeIndex: 11456 entries, 0 to 11455\n",
      "Data columns (total 8 columns):\n",
      "AnimalID          11456 non-null int64\n",
      "Name              8231 non-null object\n",
      "DateTime          11456 non-null object\n",
      "AnimalType        11456 non-null object\n",
      "SexuponOutcome    11456 non-null object\n",
      "AgeuponOutcome    11450 non-null object\n",
      "Breed             11456 non-null object\n",
      "Color             11456 non-null object\n",
      "dtypes: int64(1), object(7)\n",
      "memory usage: 716.1+ KB\n"
     ]
    }
   ],
   "source": [
    "# rename AnimalID column\n",
    "\n",
    "df_test.rename(columns = {'ID':'AnimalID'}, inplace=True)\n",
    "df_test.info()"
   ]
  },
  {
   "cell_type": "code",
   "execution_count": 4,
   "metadata": {
    "collapsed": true,
    "deletable": true,
    "editable": true
   },
   "outputs": [],
   "source": [
    "all_df = pd.concat([df_train, df_test] ,keys = ['train', 'test'])"
   ]
  },
  {
   "cell_type": "code",
   "execution_count": 5,
   "metadata": {
    "collapsed": false,
    "deletable": true,
    "editable": true
   },
   "outputs": [],
   "source": [
    "all_df['Sex'] = all_df.SexuponOutcome.str.split().str[1]"
   ]
  },
  {
   "cell_type": "code",
   "execution_count": 5,
   "metadata": {
    "collapsed": false,
    "deletable": true,
    "editable": true
   },
   "outputs": [
    {
     "data": {
      "text/plain": [
       "train  0      Male\n",
       "       1    Female\n",
       "       2      Male\n",
       "       3      Male\n",
       "       4      Male\n",
       "Name: Sex, dtype: object"
      ]
     },
     "execution_count": 5,
     "metadata": {},
     "output_type": "execute_result"
    }
   ],
   "source": [
    "all_df['Sex'].head()"
   ]
  },
  {
   "cell_type": "code",
   "execution_count": 6,
   "metadata": {
    "collapsed": false,
    "deletable": true,
    "editable": true
   },
   "outputs": [],
   "source": [
    "all_df['Intact'] = 'False'\n",
    "all_df.loc[all_df.SexuponOutcome.str.split().str[0] == 'Intact', 'Intact'] = 'True'"
   ]
  },
  {
   "cell_type": "code",
   "execution_count": 26,
   "metadata": {
    "collapsed": false,
    "deletable": true,
    "editable": true
   },
   "outputs": [
    {
     "data": {
      "text/plain": [
       "train  0    False\n",
       "       1    False\n",
       "       2    False\n",
       "       3     True\n",
       "       4    False\n",
       "Name: Intact, dtype: object"
      ]
     },
     "execution_count": 26,
     "metadata": {},
     "output_type": "execute_result"
    }
   ],
   "source": [
    "all_df['Intact'].head()"
   ]
  },
  {
   "cell_type": "code",
   "execution_count": 7,
   "metadata": {
    "collapsed": false,
    "deletable": true,
    "editable": true
   },
   "outputs": [],
   "source": [
    "all_df.loc[all_df.SexuponOutcome == 'Unknown', ['Sex', 'Intact']] = 'Unknown'\n",
    "all_df.loc[all_df.SexuponOutcome.isnull(), ['Sex', 'Intact']] = 'Unknown'"
   ]
  },
  {
   "cell_type": "markdown",
   "metadata": {
    "deletable": true,
    "editable": true
   },
   "source": [
    "Next, Breed transformation. We add Mix Boolean feature first."
   ]
  },
  {
   "cell_type": "code",
   "execution_count": 8,
   "metadata": {
    "collapsed": false,
    "deletable": true,
    "editable": true,
    "scrolled": true
   },
   "outputs": [],
   "source": [
    "all_df['Mix'] = False"
   ]
  },
  {
   "cell_type": "code",
   "execution_count": 9,
   "metadata": {
    "collapsed": false,
    "deletable": true,
    "editable": true
   },
   "outputs": [],
   "source": [
    "all_df.loc[all_df['Breed'].str.split().str[-1] == 'Mix', 'Mix'] = True"
   ]
  },
  {
   "cell_type": "code",
   "execution_count": 17,
   "metadata": {
    "collapsed": false,
    "deletable": true,
    "editable": true
   },
   "outputs": [
    {
     "data": {
      "text/plain": [
       "train  0     True\n",
       "       1     True\n",
       "       2     True\n",
       "       3     True\n",
       "       4    False\n",
       "Name: Mix, dtype: bool"
      ]
     },
     "execution_count": 17,
     "metadata": {},
     "output_type": "execute_result"
    }
   ],
   "source": [
    "all_df.Mix.head()"
   ]
  },
  {
   "cell_type": "code",
   "execution_count": 18,
   "metadata": {
    "collapsed": false,
    "deletable": true,
    "editable": true
   },
   "outputs": [
    {
     "data": {
      "text/plain": [
       "31871"
      ]
     },
     "execution_count": 18,
     "metadata": {},
     "output_type": "execute_result"
    }
   ],
   "source": [
    "len(all_df[all_df.Mix == True])"
   ]
  },
  {
   "cell_type": "code",
   "execution_count": 19,
   "metadata": {
    "collapsed": false,
    "deletable": true,
    "editable": true
   },
   "outputs": [
    {
     "data": {
      "text/plain": [
       "6314"
      ]
     },
     "execution_count": 19,
     "metadata": {},
     "output_type": "execute_result"
    }
   ],
   "source": [
    "len(all_df[all_df.Mix == False])"
   ]
  },
  {
   "cell_type": "markdown",
   "metadata": {
    "deletable": true,
    "editable": true
   },
   "source": [
    "Take away the word 'Mix' and generate a new list of breed. It is still not entirely breed types. There are still some breeds named 'Breed1/Breed2' "
   ]
  },
  {
   "cell_type": "code",
   "execution_count": 10,
   "metadata": {
    "collapsed": true,
    "deletable": true,
    "editable": true
   },
   "outputs": [],
   "source": [
    "all_df['SimpleBreed'] = all_df['Breed'].str.replace(' Mix', '')"
   ]
  },
  {
   "cell_type": "code",
   "execution_count": 21,
   "metadata": {
    "collapsed": false,
    "deletable": true,
    "editable": true
   },
   "outputs": [
    {
     "data": {
      "text/plain": [
       "1527"
      ]
     },
     "execution_count": 21,
     "metadata": {},
     "output_type": "execute_result"
    }
   ],
   "source": [
    "len(all_df.SimpleBreed.unique())"
   ]
  },
  {
   "cell_type": "code",
   "execution_count": 22,
   "metadata": {
    "collapsed": false,
    "deletable": true,
    "editable": true
   },
   "outputs": [
    {
     "data": {
      "text/html": [
       "<div>\n",
       "<table border=\"1\" class=\"dataframe\">\n",
       "  <thead>\n",
       "    <tr style=\"text-align: right;\">\n",
       "      <th></th>\n",
       "      <th></th>\n",
       "      <th>AgeuponOutcome</th>\n",
       "      <th>AnimalID</th>\n",
       "      <th>AnimalType</th>\n",
       "      <th>Breed</th>\n",
       "      <th>Color</th>\n",
       "      <th>DateTime</th>\n",
       "      <th>ID</th>\n",
       "      <th>Name</th>\n",
       "      <th>OutcomeSubtype</th>\n",
       "      <th>OutcomeType</th>\n",
       "      <th>SexuponOutcome</th>\n",
       "      <th>Sex</th>\n",
       "      <th>Intact</th>\n",
       "      <th>Mix</th>\n",
       "      <th>SimpleBreed</th>\n",
       "    </tr>\n",
       "  </thead>\n",
       "  <tbody>\n",
       "    <tr>\n",
       "      <th rowspan=\"10\" valign=\"top\">train</th>\n",
       "      <th>4048</th>\n",
       "      <td>7 months</td>\n",
       "      <td>A669926</td>\n",
       "      <td>Dog</td>\n",
       "      <td>Plott Hound/Black/Tan Hound</td>\n",
       "      <td>Brown/Tan</td>\n",
       "      <td>2014-01-01 13:00:00</td>\n",
       "      <td>NaN</td>\n",
       "      <td>NaN</td>\n",
       "      <td>Partner</td>\n",
       "      <td>Transfer</td>\n",
       "      <td>Intact Female</td>\n",
       "      <td>Female</td>\n",
       "      <td>True</td>\n",
       "      <td>False</td>\n",
       "      <td>Plott Hound/Black/Tan Hound</td>\n",
       "    </tr>\n",
       "    <tr>\n",
       "      <th>6720</th>\n",
       "      <td>2 months</td>\n",
       "      <td>A695953</td>\n",
       "      <td>Dog</td>\n",
       "      <td>Labrador Retriever/Black/Tan Hound</td>\n",
       "      <td>Black</td>\n",
       "      <td>2015-01-31 11:08:00</td>\n",
       "      <td>NaN</td>\n",
       "      <td>NaN</td>\n",
       "      <td>Partner</td>\n",
       "      <td>Transfer</td>\n",
       "      <td>Neutered Male</td>\n",
       "      <td>Male</td>\n",
       "      <td>False</td>\n",
       "      <td>False</td>\n",
       "      <td>Labrador Retriever/Black/Tan Hound</td>\n",
       "    </tr>\n",
       "    <tr>\n",
       "      <th>8213</th>\n",
       "      <td>1 year</td>\n",
       "      <td>A690356</td>\n",
       "      <td>Dog</td>\n",
       "      <td>German Shepherd/Black/Tan Hound</td>\n",
       "      <td>Black/Tan</td>\n",
       "      <td>2014-10-25 12:23:00</td>\n",
       "      <td>NaN</td>\n",
       "      <td>Cooper</td>\n",
       "      <td>NaN</td>\n",
       "      <td>Adoption</td>\n",
       "      <td>Neutered Male</td>\n",
       "      <td>Male</td>\n",
       "      <td>False</td>\n",
       "      <td>False</td>\n",
       "      <td>German Shepherd/Black/Tan Hound</td>\n",
       "    </tr>\n",
       "    <tr>\n",
       "      <th>9677</th>\n",
       "      <td>6 months</td>\n",
       "      <td>A664780</td>\n",
       "      <td>Dog</td>\n",
       "      <td>Labrador Retriever/Black/Tan Hound</td>\n",
       "      <td>Black</td>\n",
       "      <td>2013-10-21 11:20:00</td>\n",
       "      <td>NaN</td>\n",
       "      <td>Jade</td>\n",
       "      <td>NaN</td>\n",
       "      <td>Adoption</td>\n",
       "      <td>Spayed Female</td>\n",
       "      <td>Female</td>\n",
       "      <td>False</td>\n",
       "      <td>False</td>\n",
       "      <td>Labrador Retriever/Black/Tan Hound</td>\n",
       "    </tr>\n",
       "    <tr>\n",
       "      <th>10488</th>\n",
       "      <td>5 months</td>\n",
       "      <td>A691448</td>\n",
       "      <td>Dog</td>\n",
       "      <td>Black/Tan Hound/Black Mouth Cur</td>\n",
       "      <td>Tricolor</td>\n",
       "      <td>2014-11-30 11:32:00</td>\n",
       "      <td>NaN</td>\n",
       "      <td>Sylvester</td>\n",
       "      <td>Partner</td>\n",
       "      <td>Transfer</td>\n",
       "      <td>Neutered Male</td>\n",
       "      <td>Male</td>\n",
       "      <td>False</td>\n",
       "      <td>False</td>\n",
       "      <td>Black/Tan Hound/Black Mouth Cur</td>\n",
       "    </tr>\n",
       "    <tr>\n",
       "      <th>14956</th>\n",
       "      <td>6 months</td>\n",
       "      <td>A664782</td>\n",
       "      <td>Dog</td>\n",
       "      <td>Labrador Retriever/Black/Tan Hound</td>\n",
       "      <td>Yellow</td>\n",
       "      <td>2013-10-16 17:05:00</td>\n",
       "      <td>NaN</td>\n",
       "      <td>Lucille</td>\n",
       "      <td>Partner</td>\n",
       "      <td>Transfer</td>\n",
       "      <td>Intact Female</td>\n",
       "      <td>Female</td>\n",
       "      <td>True</td>\n",
       "      <td>False</td>\n",
       "      <td>Labrador Retriever/Black/Tan Hound</td>\n",
       "    </tr>\n",
       "    <tr>\n",
       "      <th>17332</th>\n",
       "      <td>6 months</td>\n",
       "      <td>A664781</td>\n",
       "      <td>Dog</td>\n",
       "      <td>Labrador Retriever/Black/Tan Hound</td>\n",
       "      <td>Black/White</td>\n",
       "      <td>2013-11-01 18:19:00</td>\n",
       "      <td>NaN</td>\n",
       "      <td>Truman</td>\n",
       "      <td>NaN</td>\n",
       "      <td>Adoption</td>\n",
       "      <td>Neutered Male</td>\n",
       "      <td>Male</td>\n",
       "      <td>False</td>\n",
       "      <td>False</td>\n",
       "      <td>Labrador Retriever/Black/Tan Hound</td>\n",
       "    </tr>\n",
       "    <tr>\n",
       "      <th>18126</th>\n",
       "      <td>4 months</td>\n",
       "      <td>A691447</td>\n",
       "      <td>Dog</td>\n",
       "      <td>Black/Tan Hound/Black Mouth Cur</td>\n",
       "      <td>Brown</td>\n",
       "      <td>2014-11-08 16:14:00</td>\n",
       "      <td>NaN</td>\n",
       "      <td>Wyatt</td>\n",
       "      <td>Partner</td>\n",
       "      <td>Transfer</td>\n",
       "      <td>Intact Male</td>\n",
       "      <td>Male</td>\n",
       "      <td>True</td>\n",
       "      <td>False</td>\n",
       "      <td>Black/Tan Hound/Black Mouth Cur</td>\n",
       "    </tr>\n",
       "    <tr>\n",
       "      <th>19667</th>\n",
       "      <td>6 months</td>\n",
       "      <td>A664779</td>\n",
       "      <td>Dog</td>\n",
       "      <td>Black/Tan Hound/Labrador Retriever</td>\n",
       "      <td>Black/Tan</td>\n",
       "      <td>2013-10-16 17:05:00</td>\n",
       "      <td>NaN</td>\n",
       "      <td>Lacey</td>\n",
       "      <td>Partner</td>\n",
       "      <td>Transfer</td>\n",
       "      <td>Intact Female</td>\n",
       "      <td>Female</td>\n",
       "      <td>True</td>\n",
       "      <td>False</td>\n",
       "      <td>Black/Tan Hound/Labrador Retriever</td>\n",
       "    </tr>\n",
       "    <tr>\n",
       "      <th>20341</th>\n",
       "      <td>8 months</td>\n",
       "      <td>A668745</td>\n",
       "      <td>Dog</td>\n",
       "      <td>Black/Tan Hound/German Shepherd</td>\n",
       "      <td>Black/Tan</td>\n",
       "      <td>2013-12-19 15:05:00</td>\n",
       "      <td>NaN</td>\n",
       "      <td>Parker</td>\n",
       "      <td>Partner</td>\n",
       "      <td>Transfer</td>\n",
       "      <td>Neutered Male</td>\n",
       "      <td>Male</td>\n",
       "      <td>False</td>\n",
       "      <td>False</td>\n",
       "      <td>Black/Tan Hound/German Shepherd</td>\n",
       "    </tr>\n",
       "    <tr>\n",
       "      <th rowspan=\"4\" valign=\"top\">test</th>\n",
       "      <th>4889</th>\n",
       "      <td>2 years</td>\n",
       "      <td>NaN</td>\n",
       "      <td>Dog</td>\n",
       "      <td>German Shepherd/Black/Tan Hound</td>\n",
       "      <td>Black/Tan</td>\n",
       "      <td>2013-12-23 11:08:00</td>\n",
       "      <td>4890.0</td>\n",
       "      <td>Woody</td>\n",
       "      <td>NaN</td>\n",
       "      <td>NaN</td>\n",
       "      <td>Neutered Male</td>\n",
       "      <td>Male</td>\n",
       "      <td>False</td>\n",
       "      <td>False</td>\n",
       "      <td>German Shepherd/Black/Tan Hound</td>\n",
       "    </tr>\n",
       "    <tr>\n",
       "      <th>8168</th>\n",
       "      <td>3 years</td>\n",
       "      <td>NaN</td>\n",
       "      <td>Dog</td>\n",
       "      <td>Black/Tan Hound/Siberian Husky</td>\n",
       "      <td>Black/Tan</td>\n",
       "      <td>2015-02-23 18:31:00</td>\n",
       "      <td>8169.0</td>\n",
       "      <td>Sam</td>\n",
       "      <td>NaN</td>\n",
       "      <td>NaN</td>\n",
       "      <td>Intact Female</td>\n",
       "      <td>Female</td>\n",
       "      <td>True</td>\n",
       "      <td>False</td>\n",
       "      <td>Black/Tan Hound/Siberian Husky</td>\n",
       "    </tr>\n",
       "    <tr>\n",
       "      <th>10555</th>\n",
       "      <td>5 months</td>\n",
       "      <td>NaN</td>\n",
       "      <td>Dog</td>\n",
       "      <td>German Shepherd/Black/Tan Hound</td>\n",
       "      <td>Brown/Black</td>\n",
       "      <td>2015-08-22 17:52:00</td>\n",
       "      <td>10556.0</td>\n",
       "      <td>Wesley</td>\n",
       "      <td>NaN</td>\n",
       "      <td>NaN</td>\n",
       "      <td>Neutered Male</td>\n",
       "      <td>Male</td>\n",
       "      <td>False</td>\n",
       "      <td>False</td>\n",
       "      <td>German Shepherd/Black/Tan Hound</td>\n",
       "    </tr>\n",
       "    <tr>\n",
       "      <th>10697</th>\n",
       "      <td>6 months</td>\n",
       "      <td>NaN</td>\n",
       "      <td>Dog</td>\n",
       "      <td>Labrador Retriever/Black/Tan Hound</td>\n",
       "      <td>Fawn</td>\n",
       "      <td>2013-10-20 15:36:00</td>\n",
       "      <td>10698.0</td>\n",
       "      <td>Leland</td>\n",
       "      <td>NaN</td>\n",
       "      <td>NaN</td>\n",
       "      <td>Neutered Male</td>\n",
       "      <td>Male</td>\n",
       "      <td>False</td>\n",
       "      <td>False</td>\n",
       "      <td>Labrador Retriever/Black/Tan Hound</td>\n",
       "    </tr>\n",
       "  </tbody>\n",
       "</table>\n",
       "</div>"
      ],
      "text/plain": [
       "            AgeuponOutcome AnimalID AnimalType  \\\n",
       "train 4048        7 months  A669926        Dog   \n",
       "      6720        2 months  A695953        Dog   \n",
       "      8213          1 year  A690356        Dog   \n",
       "      9677        6 months  A664780        Dog   \n",
       "      10488       5 months  A691448        Dog   \n",
       "      14956       6 months  A664782        Dog   \n",
       "      17332       6 months  A664781        Dog   \n",
       "      18126       4 months  A691447        Dog   \n",
       "      19667       6 months  A664779        Dog   \n",
       "      20341       8 months  A668745        Dog   \n",
       "test  4889         2 years      NaN        Dog   \n",
       "      8168         3 years      NaN        Dog   \n",
       "      10555       5 months      NaN        Dog   \n",
       "      10697       6 months      NaN        Dog   \n",
       "\n",
       "                                          Breed        Color  \\\n",
       "train 4048          Plott Hound/Black/Tan Hound    Brown/Tan   \n",
       "      6720   Labrador Retriever/Black/Tan Hound        Black   \n",
       "      8213      German Shepherd/Black/Tan Hound    Black/Tan   \n",
       "      9677   Labrador Retriever/Black/Tan Hound        Black   \n",
       "      10488     Black/Tan Hound/Black Mouth Cur     Tricolor   \n",
       "      14956  Labrador Retriever/Black/Tan Hound       Yellow   \n",
       "      17332  Labrador Retriever/Black/Tan Hound  Black/White   \n",
       "      18126     Black/Tan Hound/Black Mouth Cur        Brown   \n",
       "      19667  Black/Tan Hound/Labrador Retriever    Black/Tan   \n",
       "      20341     Black/Tan Hound/German Shepherd    Black/Tan   \n",
       "test  4889      German Shepherd/Black/Tan Hound    Black/Tan   \n",
       "      8168       Black/Tan Hound/Siberian Husky    Black/Tan   \n",
       "      10555     German Shepherd/Black/Tan Hound  Brown/Black   \n",
       "      10697  Labrador Retriever/Black/Tan Hound         Fawn   \n",
       "\n",
       "                        DateTime       ID       Name OutcomeSubtype  \\\n",
       "train 4048   2014-01-01 13:00:00      NaN        NaN        Partner   \n",
       "      6720   2015-01-31 11:08:00      NaN        NaN        Partner   \n",
       "      8213   2014-10-25 12:23:00      NaN     Cooper            NaN   \n",
       "      9677   2013-10-21 11:20:00      NaN       Jade            NaN   \n",
       "      10488  2014-11-30 11:32:00      NaN  Sylvester        Partner   \n",
       "      14956  2013-10-16 17:05:00      NaN    Lucille        Partner   \n",
       "      17332  2013-11-01 18:19:00      NaN     Truman            NaN   \n",
       "      18126  2014-11-08 16:14:00      NaN      Wyatt        Partner   \n",
       "      19667  2013-10-16 17:05:00      NaN      Lacey        Partner   \n",
       "      20341  2013-12-19 15:05:00      NaN     Parker        Partner   \n",
       "test  4889   2013-12-23 11:08:00   4890.0      Woody            NaN   \n",
       "      8168   2015-02-23 18:31:00   8169.0        Sam            NaN   \n",
       "      10555  2015-08-22 17:52:00  10556.0     Wesley            NaN   \n",
       "      10697  2013-10-20 15:36:00  10698.0     Leland            NaN   \n",
       "\n",
       "            OutcomeType SexuponOutcome     Sex Intact    Mix  \\\n",
       "train 4048     Transfer  Intact Female  Female   True  False   \n",
       "      6720     Transfer  Neutered Male    Male  False  False   \n",
       "      8213     Adoption  Neutered Male    Male  False  False   \n",
       "      9677     Adoption  Spayed Female  Female  False  False   \n",
       "      10488    Transfer  Neutered Male    Male  False  False   \n",
       "      14956    Transfer  Intact Female  Female   True  False   \n",
       "      17332    Adoption  Neutered Male    Male  False  False   \n",
       "      18126    Transfer    Intact Male    Male   True  False   \n",
       "      19667    Transfer  Intact Female  Female   True  False   \n",
       "      20341    Transfer  Neutered Male    Male  False  False   \n",
       "test  4889          NaN  Neutered Male    Male  False  False   \n",
       "      8168          NaN  Intact Female  Female   True  False   \n",
       "      10555         NaN  Neutered Male    Male  False  False   \n",
       "      10697         NaN  Neutered Male    Male  False  False   \n",
       "\n",
       "                                    SimpleBreed  \n",
       "train 4048          Plott Hound/Black/Tan Hound  \n",
       "      6720   Labrador Retriever/Black/Tan Hound  \n",
       "      8213      German Shepherd/Black/Tan Hound  \n",
       "      9677   Labrador Retriever/Black/Tan Hound  \n",
       "      10488     Black/Tan Hound/Black Mouth Cur  \n",
       "      14956  Labrador Retriever/Black/Tan Hound  \n",
       "      17332  Labrador Retriever/Black/Tan Hound  \n",
       "      18126     Black/Tan Hound/Black Mouth Cur  \n",
       "      19667  Black/Tan Hound/Labrador Retriever  \n",
       "      20341     Black/Tan Hound/German Shepherd  \n",
       "test  4889      German Shepherd/Black/Tan Hound  \n",
       "      8168       Black/Tan Hound/Siberian Husky  \n",
       "      10555     German Shepherd/Black/Tan Hound  \n",
       "      10697  Labrador Retriever/Black/Tan Hound  "
      ]
     },
     "execution_count": 22,
     "metadata": {},
     "output_type": "execute_result"
    }
   ],
   "source": [
    "all_df[all_df.SimpleBreed.str.contains(r'/[\\w ]*/')]"
   ]
  },
  {
   "cell_type": "markdown",
   "metadata": {
    "deletable": true,
    "editable": true
   },
   "source": [
    "Black/Tan Hound is in fact a breed type, i.e. cannot simply use '/' to label a mix. Let's rename it to something less confusing."
   ]
  },
  {
   "cell_type": "code",
   "execution_count": 11,
   "metadata": {
    "collapsed": false,
    "deletable": true,
    "editable": true
   },
   "outputs": [],
   "source": [
    "all_df.SimpleBreed = all_df.SimpleBreed.str.replace('Black/Tan', 'BlacknTan')"
   ]
  },
  {
   "cell_type": "markdown",
   "metadata": {
    "deletable": true,
    "editable": true
   },
   "source": [
    "Before we go further, let's check if there are cases such as \"Breed1/Breed2\" and \"Breed2/Breed1\"."
   ]
  },
  {
   "cell_type": "code",
   "execution_count": 14,
   "metadata": {
    "collapsed": false,
    "deletable": true,
    "editable": true
   },
   "outputs": [],
   "source": [
    "breedtypes = df_train[~df_train.SimpleBreed.str.contains('/')].SimpleBreed.unique()"
   ]
  },
  {
   "cell_type": "code",
   "execution_count": 15,
   "metadata": {
    "collapsed": false,
    "deletable": true,
    "editable": true
   },
   "outputs": [
    {
     "data": {
      "text/plain": [
       "217"
      ]
     },
     "execution_count": 15,
     "metadata": {},
     "output_type": "execute_result"
    }
   ],
   "source": [
    "len(breedtypes)"
   ]
  },
  {
   "cell_type": "code",
   "execution_count": 84,
   "metadata": {
    "collapsed": false,
    "deletable": true,
    "editable": true
   },
   "outputs": [
    {
     "name": "stdout",
     "output_type": "stream",
     "text": [
      "3037 contains / and 1027 are unique\n"
     ]
    }
   ],
   "source": [
    "temp_df = df_train[df_train.SimpleBreed.str.contains('/')]\n",
    "print(\"{} contains '/' and {} are unique\".format(len(temp_df), len(temp_df.SimpleBreed.unique())))"
   ]
  },
  {
   "cell_type": "markdown",
   "metadata": {
    "deletable": true,
    "editable": true
   },
   "source": [
    "Sort the 'breed1/breed2' combination and check unique again"
   ]
  },
  {
   "cell_type": "code",
   "execution_count": 9,
   "metadata": {
    "collapsed": false,
    "deletable": true,
    "editable": true
   },
   "outputs": [],
   "source": [
    "df_train.SimpleBreed = df_train.SimpleBreed.str.split('/').apply(np.sort)"
   ]
  },
  {
   "cell_type": "code",
   "execution_count": 10,
   "metadata": {
    "collapsed": false,
    "deletable": true,
    "editable": true
   },
   "outputs": [],
   "source": [
    "df_train.SimpleBreed = df_train.SimpleBreed.apply(lambda x: '/'.join(x))"
   ]
  },
  {
   "cell_type": "code",
   "execution_count": 13,
   "metadata": {
    "collapsed": false,
    "deletable": true,
    "editable": true
   },
   "outputs": [
    {
     "data": {
      "text/plain": [
       "1007"
      ]
     },
     "execution_count": 13,
     "metadata": {},
     "output_type": "execute_result"
    }
   ],
   "source": [
    "len(df_train.SimpleBreed.unique())"
   ]
  },
  {
   "cell_type": "markdown",
   "metadata": {
    "deletable": true,
    "editable": true
   },
   "source": [
    "So the order in 'breed1/breed2' does make a small difference. However, is this cause by data entry preference which is insignificant or one breedtype is more dominating than the other?\n",
    "\n",
    "Find out how many 'Breed1' of 'Breed1/Breed2' are in the the breedtypes"
   ]
  },
  {
   "cell_type": "code",
   "execution_count": 16,
   "metadata": {
    "collapsed": false,
    "deletable": true,
    "editable": true
   },
   "outputs": [
    {
     "name": "stdout",
     "output_type": "stream",
     "text": [
      "2933\n"
     ]
    }
   ],
   "source": [
    "len(temp_df[temp_df.SimpleBreed.str.split('/').str[0].isin(breedtypes)])"
   ]
  },
  {
   "cell_type": "markdown",
   "metadata": {
    "deletable": true,
    "editable": true
   },
   "source": [
    "What about not in the breedtypes?"
   ]
  },
  {
   "cell_type": "code",
   "execution_count": 177,
   "metadata": {
    "collapsed": false,
    "deletable": true,
    "editable": true
   },
   "outputs": [
    {
     "data": {
      "text/plain": [
       "104"
      ]
     },
     "execution_count": 177,
     "metadata": {},
     "output_type": "execute_result"
    }
   ],
   "source": [
    "len(temp_df[~temp_df.SimpleBreed.str.split('/').str[0].isin(breedtypes)])"
   ]
  },
  {
   "cell_type": "code",
   "execution_count": 179,
   "metadata": {
    "collapsed": false,
    "deletable": true,
    "editable": true
   },
   "outputs": [
    {
     "data": {
      "text/plain": [
       "30"
      ]
     },
     "execution_count": 179,
     "metadata": {},
     "output_type": "execute_result"
    }
   ],
   "source": [
    "# unique breeds\n",
    "len(temp_df[~temp_df.SimpleBreed.str.split('/').str[0].isin(breedtypes)].SimpleBreed.str.split('/').str[0].unique())"
   ]
  },
  {
   "cell_type": "markdown",
   "metadata": {
    "deletable": true,
    "editable": true
   },
   "source": [
    "'Breed2' of 'breed1/Breed2' not in the breedtypes?"
   ]
  },
  {
   "cell_type": "code",
   "execution_count": 25,
   "metadata": {
    "collapsed": false,
    "deletable": true,
    "editable": true
   },
   "outputs": [
    {
     "data": {
      "text/plain": [
       "97"
      ]
     },
     "execution_count": 25,
     "metadata": {},
     "output_type": "execute_result"
    }
   ],
   "source": [
    "len(temp_df[~temp_df.SimpleBreed.str.split('/').str[1].isin(breedtypes)])"
   ]
  },
  {
   "cell_type": "markdown",
   "metadata": {
    "deletable": true,
    "editable": true
   },
   "source": [
    "How many Breed are not in breedtypes?"
   ]
  },
  {
   "cell_type": "code",
   "execution_count": 197,
   "metadata": {
    "collapsed": false,
    "deletable": true,
    "editable": true
   },
   "outputs": [
    {
     "name": "stdout",
     "output_type": "stream",
     "text": [
      "27 more new types\n",
      "['Kuvasz', 'Norwich Terrier', 'Irish Setter', 'Irish Terrier', 'Boykin Span', 'Tibetan Terrier', 'English Coonhound', 'Chinese Crested', 'Patterdale Terr', 'Glen Of Imaal', 'Belgian Tervuren', 'Irish Wolfhound', 'Swiss Hound', 'Silky Terrier', 'English Cocker Spaniel', 'English Setter', 'Yorkshire', 'Schnauzer Giant', 'Welsh Terrier', 'Rex', 'Affenpinscher', 'Japanese Bobtail', 'Spanish Water Dog', 'Unknown', 'Smooth Fox Terrier', 'Borzoi', 'Neapolitan Mastiff']\n"
     ]
    }
   ],
   "source": [
    "newbreed1 = temp_df[~temp_df.SimpleBreed.str.split('/').str[0].isin(breedtypes)].SimpleBreed.str.split('/').str[0].unique()\n",
    "newbreed2 = temp_df[~temp_df.SimpleBreed.str.split('/').str[1].isin(breedtypes)].SimpleBreed.str.split('/').str[1].unique()\n",
    "\n",
    "newbreed = [x for x in newbreed1 if x not in newbreed2] + [x for x in newbreed2 if x not in newbreed1]\n",
    "print('{} more new types'.format(len(newbreed)))\n",
    "print(newbreed)"
   ]
  },
  {
   "cell_type": "markdown",
   "metadata": {
    "deletable": true,
    "editable": true
   },
   "source": [
    "So far I don't know the best way to include both breed information in 'Breed1/Breed2'. Making two features is not a good idea because which breed type should be include in feature1 but not the other? \n",
    "\n",
    "I decide to simply drop the second breed for now."
   ]
  },
  {
   "cell_type": "code",
   "execution_count": 12,
   "metadata": {
    "collapsed": true,
    "deletable": true,
    "editable": true
   },
   "outputs": [],
   "source": [
    "all_df.loc[all_df.SimpleBreed.str.contains('/'), 'Mix'] = True"
   ]
  },
  {
   "cell_type": "code",
   "execution_count": 25,
   "metadata": {
    "collapsed": false,
    "deletable": true,
    "editable": true
   },
   "outputs": [
    {
     "data": {
      "text/plain": [
       "36195"
      ]
     },
     "execution_count": 25,
     "metadata": {},
     "output_type": "execute_result"
    }
   ],
   "source": [
    "len(all_df[all_df.Mix == True])"
   ]
  },
  {
   "cell_type": "code",
   "execution_count": 13,
   "metadata": {
    "collapsed": false,
    "deletable": true,
    "editable": true
   },
   "outputs": [],
   "source": [
    "all_df['SimpleBreed1'] = all_df.SimpleBreed.str.replace(r'/[\\w ]*', '')"
   ]
  },
  {
   "cell_type": "code",
   "execution_count": 31,
   "metadata": {
    "collapsed": false,
    "deletable": true,
    "editable": true
   },
   "outputs": [
    {
     "data": {
      "text/plain": [
       "234"
      ]
     },
     "execution_count": 31,
     "metadata": {},
     "output_type": "execute_result"
    }
   ],
   "source": [
    "len(all_df.SimpleBreed1.unique())"
   ]
  },
  {
   "cell_type": "markdown",
   "metadata": {
    "deletable": true,
    "editable": true
   },
   "source": [
    "A lot better than 1380. Now deal with the Color. Let's make it into Color and Pattern."
   ]
  },
  {
   "cell_type": "code",
   "execution_count": 34,
   "metadata": {
    "collapsed": false,
    "deletable": true,
    "editable": true
   },
   "outputs": [
    {
     "data": {
      "text/plain": [
       "411"
      ]
     },
     "execution_count": 34,
     "metadata": {},
     "output_type": "execute_result"
    }
   ],
   "source": [
    "len(all_df.Color.unique())"
   ]
  },
  {
   "cell_type": "code",
   "execution_count": 48,
   "metadata": {
    "collapsed": false,
    "deletable": true,
    "editable": true
   },
   "outputs": [
    {
     "data": {
      "text/plain": [
       "7404"
      ]
     },
     "execution_count": 48,
     "metadata": {},
     "output_type": "execute_result"
    }
   ],
   "source": [
    "len(all_df[all_df.Color.str.contains(' Tabby')])"
   ]
  },
  {
   "cell_type": "code",
   "execution_count": 14,
   "metadata": {
    "collapsed": false,
    "deletable": true,
    "editable": true
   },
   "outputs": [],
   "source": [
    "all_df['Pattern'] = False\n",
    "all_df.loc[all_df.Color.str.contains(' Tabby'), 'Pattern'] = True"
   ]
  },
  {
   "cell_type": "code",
   "execution_count": 15,
   "metadata": {
    "collapsed": true,
    "deletable": true,
    "editable": true
   },
   "outputs": [],
   "source": [
    "all_df['SimpleColor'] = all_df.Color.str.replace(' Tabby', '')"
   ]
  },
  {
   "cell_type": "code",
   "execution_count": 60,
   "metadata": {
    "collapsed": false,
    "deletable": true,
    "editable": true
   },
   "outputs": [
    {
     "data": {
      "text/html": [
       "<div>\n",
       "<table border=\"1\" class=\"dataframe\">\n",
       "  <thead>\n",
       "    <tr style=\"text-align: right;\">\n",
       "      <th></th>\n",
       "      <th></th>\n",
       "      <th>AgeuponOutcome</th>\n",
       "      <th>AnimalID</th>\n",
       "      <th>AnimalType</th>\n",
       "      <th>Breed</th>\n",
       "      <th>Color</th>\n",
       "      <th>DateTime</th>\n",
       "      <th>ID</th>\n",
       "      <th>Name</th>\n",
       "      <th>OutcomeSubtype</th>\n",
       "      <th>OutcomeType</th>\n",
       "      <th>SexuponOutcome</th>\n",
       "      <th>Sex</th>\n",
       "      <th>Intact</th>\n",
       "      <th>Mix</th>\n",
       "      <th>SimpleBreed</th>\n",
       "      <th>SimpleBreed1</th>\n",
       "      <th>Pattern</th>\n",
       "      <th>SimpleColor</th>\n",
       "    </tr>\n",
       "  </thead>\n",
       "  <tbody>\n",
       "    <tr>\n",
       "      <th>train</th>\n",
       "      <th>4998</th>\n",
       "      <td>10 months</td>\n",
       "      <td>A716075</td>\n",
       "      <td>Dog</td>\n",
       "      <td>Jack Russell Terrier/Basenji</td>\n",
       "      <td>White/Brown Tabby</td>\n",
       "      <td>2015-11-17 17:23:00</td>\n",
       "      <td>NaN</td>\n",
       "      <td>Toby</td>\n",
       "      <td>NaN</td>\n",
       "      <td>Return_to_owner</td>\n",
       "      <td>Neutered Male</td>\n",
       "      <td>Male</td>\n",
       "      <td>False</td>\n",
       "      <td>True</td>\n",
       "      <td>Jack Russell Terrier/Basenji</td>\n",
       "      <td>Jack Russell Terrier</td>\n",
       "      <td>True</td>\n",
       "      <td>White/Brown</td>\n",
       "    </tr>\n",
       "  </tbody>\n",
       "</table>\n",
       "</div>"
      ],
      "text/plain": [
       "           AgeuponOutcome AnimalID AnimalType                         Breed  \\\n",
       "train 4998      10 months  A716075        Dog  Jack Russell Terrier/Basenji   \n",
       "\n",
       "                        Color             DateTime  ID  Name OutcomeSubtype  \\\n",
       "train 4998  White/Brown Tabby  2015-11-17 17:23:00 NaN  Toby            NaN   \n",
       "\n",
       "                OutcomeType SexuponOutcome   Sex Intact   Mix  \\\n",
       "train 4998  Return_to_owner  Neutered Male  Male  False  True   \n",
       "\n",
       "                             SimpleBreed          SimpleBreed1 Pattern  \\\n",
       "train 4998  Jack Russell Terrier/Basenji  Jack Russell Terrier    True   \n",
       "\n",
       "            SimpleColor  \n",
       "train 4998  White/Brown  "
      ]
     },
     "execution_count": 60,
     "metadata": {},
     "output_type": "execute_result"
    }
   ],
   "source": [
    "all_df[(all_df.AnimalType == 'Dog') & (all_df.Pattern == True)]"
   ]
  },
  {
   "cell_type": "markdown",
   "metadata": {
    "deletable": true,
    "editable": true
   },
   "source": [
    "Interesting to see one dog with Pattern Tabby"
   ]
  },
  {
   "cell_type": "markdown",
   "metadata": {
    "deletable": true,
    "editable": true
   },
   "source": [
    "Same again. We strip the second color."
   ]
  },
  {
   "cell_type": "code",
   "execution_count": 16,
   "metadata": {
    "collapsed": true,
    "deletable": true,
    "editable": true
   },
   "outputs": [],
   "source": [
    "all_df['SimpleColor1'] = all_df.SimpleColor.str.replace(r'[/ ]+[\\w ]*', '')"
   ]
  },
  {
   "cell_type": "markdown",
   "metadata": {
    "deletable": true,
    "editable": true
   },
   "source": [
    "Do something similar to name"
   ]
  },
  {
   "cell_type": "code",
   "execution_count": 17,
   "metadata": {
    "collapsed": true,
    "deletable": true,
    "editable": true
   },
   "outputs": [],
   "source": [
    "all_df['HasName'] = True\n",
    "all_df.loc[all_df.Name.isnull(), 'HasName'] = False"
   ]
  },
  {
   "cell_type": "code",
   "execution_count": 17,
   "metadata": {
    "collapsed": false,
    "deletable": true,
    "editable": true
   },
   "outputs": [
    {
     "data": {
      "text/html": [
       "<div>\n",
       "<table border=\"1\" class=\"dataframe\">\n",
       "  <thead>\n",
       "    <tr style=\"text-align: right;\">\n",
       "      <th></th>\n",
       "      <th></th>\n",
       "      <th>AgeuponOutcome</th>\n",
       "      <th>AnimalID</th>\n",
       "      <th>AnimalType</th>\n",
       "      <th>Breed</th>\n",
       "      <th>Color</th>\n",
       "      <th>DateTime</th>\n",
       "      <th>Name</th>\n",
       "      <th>OutcomeSubtype</th>\n",
       "      <th>OutcomeType</th>\n",
       "      <th>SexuponOutcome</th>\n",
       "      <th>Sex</th>\n",
       "      <th>Intact</th>\n",
       "      <th>Mix</th>\n",
       "      <th>SimpleBreed</th>\n",
       "      <th>SimpleBreed1</th>\n",
       "      <th>Pattern</th>\n",
       "      <th>SimpleColor</th>\n",
       "      <th>SimpleColor1</th>\n",
       "      <th>HasName</th>\n",
       "    </tr>\n",
       "  </thead>\n",
       "  <tbody>\n",
       "    <tr>\n",
       "      <th rowspan=\"5\" valign=\"top\">train</th>\n",
       "      <th>0</th>\n",
       "      <td>1 year</td>\n",
       "      <td>A671945</td>\n",
       "      <td>Dog</td>\n",
       "      <td>Shetland Sheepdog Mix</td>\n",
       "      <td>Brown/White</td>\n",
       "      <td>2014-02-12 18:22:00</td>\n",
       "      <td>Hambone</td>\n",
       "      <td>NaN</td>\n",
       "      <td>Return_to_owner</td>\n",
       "      <td>Neutered Male</td>\n",
       "      <td>Male</td>\n",
       "      <td>False</td>\n",
       "      <td>True</td>\n",
       "      <td>Shetland Sheepdog</td>\n",
       "      <td>Shetland Sheepdog</td>\n",
       "      <td>False</td>\n",
       "      <td>Brown/White</td>\n",
       "      <td>Brown</td>\n",
       "      <td>True</td>\n",
       "    </tr>\n",
       "    <tr>\n",
       "      <th>1</th>\n",
       "      <td>1 year</td>\n",
       "      <td>A656520</td>\n",
       "      <td>Cat</td>\n",
       "      <td>Domestic Shorthair Mix</td>\n",
       "      <td>Cream Tabby</td>\n",
       "      <td>2013-10-13 12:44:00</td>\n",
       "      <td>Emily</td>\n",
       "      <td>Suffering</td>\n",
       "      <td>Euthanasia</td>\n",
       "      <td>Spayed Female</td>\n",
       "      <td>Female</td>\n",
       "      <td>False</td>\n",
       "      <td>True</td>\n",
       "      <td>Domestic Shorthair</td>\n",
       "      <td>Domestic Shorthair</td>\n",
       "      <td>True</td>\n",
       "      <td>Cream</td>\n",
       "      <td>Cream</td>\n",
       "      <td>True</td>\n",
       "    </tr>\n",
       "    <tr>\n",
       "      <th>2</th>\n",
       "      <td>2 years</td>\n",
       "      <td>A686464</td>\n",
       "      <td>Dog</td>\n",
       "      <td>Pit Bull Mix</td>\n",
       "      <td>Blue/White</td>\n",
       "      <td>2015-01-31 12:28:00</td>\n",
       "      <td>Pearce</td>\n",
       "      <td>Foster</td>\n",
       "      <td>Adoption</td>\n",
       "      <td>Neutered Male</td>\n",
       "      <td>Male</td>\n",
       "      <td>False</td>\n",
       "      <td>True</td>\n",
       "      <td>Pit Bull</td>\n",
       "      <td>Pit Bull</td>\n",
       "      <td>False</td>\n",
       "      <td>Blue/White</td>\n",
       "      <td>Blue</td>\n",
       "      <td>True</td>\n",
       "    </tr>\n",
       "    <tr>\n",
       "      <th>3</th>\n",
       "      <td>3 weeks</td>\n",
       "      <td>A683430</td>\n",
       "      <td>Cat</td>\n",
       "      <td>Domestic Shorthair Mix</td>\n",
       "      <td>Blue Cream</td>\n",
       "      <td>2014-07-11 19:09:00</td>\n",
       "      <td>NaN</td>\n",
       "      <td>Partner</td>\n",
       "      <td>Transfer</td>\n",
       "      <td>Intact Male</td>\n",
       "      <td>Male</td>\n",
       "      <td>True</td>\n",
       "      <td>True</td>\n",
       "      <td>Domestic Shorthair</td>\n",
       "      <td>Domestic Shorthair</td>\n",
       "      <td>False</td>\n",
       "      <td>Blue Cream</td>\n",
       "      <td>Blue</td>\n",
       "      <td>False</td>\n",
       "    </tr>\n",
       "    <tr>\n",
       "      <th>4</th>\n",
       "      <td>2 years</td>\n",
       "      <td>A667013</td>\n",
       "      <td>Dog</td>\n",
       "      <td>Lhasa Apso/Miniature Poodle</td>\n",
       "      <td>Tan</td>\n",
       "      <td>2013-11-15 12:52:00</td>\n",
       "      <td>NaN</td>\n",
       "      <td>Partner</td>\n",
       "      <td>Transfer</td>\n",
       "      <td>Neutered Male</td>\n",
       "      <td>Male</td>\n",
       "      <td>False</td>\n",
       "      <td>True</td>\n",
       "      <td>Lhasa Apso/Miniature Poodle</td>\n",
       "      <td>Lhasa Apso</td>\n",
       "      <td>False</td>\n",
       "      <td>Tan</td>\n",
       "      <td>Tan</td>\n",
       "      <td>False</td>\n",
       "    </tr>\n",
       "  </tbody>\n",
       "</table>\n",
       "</div>"
      ],
      "text/plain": [
       "        AgeuponOutcome AnimalID AnimalType                        Breed  \\\n",
       "train 0         1 year  A671945        Dog        Shetland Sheepdog Mix   \n",
       "      1         1 year  A656520        Cat       Domestic Shorthair Mix   \n",
       "      2        2 years  A686464        Dog                 Pit Bull Mix   \n",
       "      3        3 weeks  A683430        Cat       Domestic Shorthair Mix   \n",
       "      4        2 years  A667013        Dog  Lhasa Apso/Miniature Poodle   \n",
       "\n",
       "               Color             DateTime     Name OutcomeSubtype  \\\n",
       "train 0  Brown/White  2014-02-12 18:22:00  Hambone            NaN   \n",
       "      1  Cream Tabby  2013-10-13 12:44:00    Emily      Suffering   \n",
       "      2   Blue/White  2015-01-31 12:28:00   Pearce         Foster   \n",
       "      3   Blue Cream  2014-07-11 19:09:00      NaN        Partner   \n",
       "      4          Tan  2013-11-15 12:52:00      NaN        Partner   \n",
       "\n",
       "             OutcomeType SexuponOutcome     Sex Intact   Mix  \\\n",
       "train 0  Return_to_owner  Neutered Male    Male  False  True   \n",
       "      1       Euthanasia  Spayed Female  Female  False  True   \n",
       "      2         Adoption  Neutered Male    Male  False  True   \n",
       "      3         Transfer    Intact Male    Male   True  True   \n",
       "      4         Transfer  Neutered Male    Male  False  True   \n",
       "\n",
       "                         SimpleBreed        SimpleBreed1 Pattern  SimpleColor  \\\n",
       "train 0            Shetland Sheepdog   Shetland Sheepdog   False  Brown/White   \n",
       "      1           Domestic Shorthair  Domestic Shorthair    True        Cream   \n",
       "      2                     Pit Bull            Pit Bull   False   Blue/White   \n",
       "      3           Domestic Shorthair  Domestic Shorthair   False   Blue Cream   \n",
       "      4  Lhasa Apso/Miniature Poodle          Lhasa Apso   False          Tan   \n",
       "\n",
       "        SimpleColor1 HasName  \n",
       "train 0        Brown    True  \n",
       "      1        Cream    True  \n",
       "      2         Blue    True  \n",
       "      3         Blue   False  \n",
       "      4          Tan   False  "
      ]
     },
     "execution_count": 17,
     "metadata": {},
     "output_type": "execute_result"
    }
   ],
   "source": [
    "all_df.head()"
   ]
  },
  {
   "cell_type": "markdown",
   "metadata": {
    "deletable": true,
    "editable": true
   },
   "source": [
    "Transform AgeuponOutcome"
   ]
  },
  {
   "cell_type": "code",
   "execution_count": 54,
   "metadata": {
    "collapsed": false,
    "deletable": true,
    "editable": true
   },
   "outputs": [
    {
     "data": {
      "text/plain": [
       "24"
      ]
     },
     "execution_count": 54,
     "metadata": {},
     "output_type": "execute_result"
    }
   ],
   "source": [
    "len(all_df[all_df.AgeuponOutcome.isnull()])"
   ]
  },
  {
   "cell_type": "markdown",
   "metadata": {
    "deletable": true,
    "editable": true
   },
   "source": [
    "Many missing values. Need to fill them up with RandomForest later."
   ]
  },
  {
   "cell_type": "code",
   "execution_count": 18,
   "metadata": {
    "collapsed": true,
    "deletable": true,
    "editable": true
   },
   "outputs": [],
   "source": [
    "def age_in_days(age):\n",
    "    value = age.split(' ')[0]\n",
    "    unit = age.split(' ')[1]\n",
    "    if (unit == 'year') | (unit == 'years'):\n",
    "        value = float(value) * 365.25\n",
    "    elif (unit == 'month') | (unit == 'months'):\n",
    "        value = float(value) * 30.4375\n",
    "    elif (unit == 'week') | (unit == 'weeks'):\n",
    "        value = float(value) * 7\n",
    "    #if (len(age) > 6):\n",
    "        #print(age)\n",
    "    return value"
   ]
  },
  {
   "cell_type": "code",
   "execution_count": 19,
   "metadata": {
    "collapsed": false,
    "deletable": true,
    "editable": true
   },
   "outputs": [],
   "source": [
    "# Convert series to array of floats\n",
    "all_df['AgeinDays'] = pd.to_numeric(all_df.loc[pd.notnull(all_df.AgeuponOutcome), 'AgeuponOutcome'].map(lambda x: age_in_days(x)))"
   ]
  },
  {
   "cell_type": "markdown",
   "metadata": {
    "deletable": true,
    "editable": true
   },
   "source": [
    "Now encode"
   ]
  },
  {
   "cell_type": "code",
   "execution_count": 20,
   "metadata": {
    "collapsed": true,
    "deletable": true,
    "editable": true
   },
   "outputs": [],
   "source": [
    "new_df = all_df.copy()"
   ]
  },
  {
   "cell_type": "code",
   "execution_count": 21,
   "metadata": {
    "collapsed": false,
    "deletable": true,
    "editable": true
   },
   "outputs": [],
   "source": [
    "# Encode the train set classes first\n",
    "le_OutcomeType = LabelEncoder()\n",
    "le_SimpleBreed1 = LabelEncoder()\n",
    "le_SimpleColor1 = LabelEncoder()\n",
    "le_Sex = LabelEncoder()\n",
    "le_Intact = LabelEncoder()\n",
    "le_Mix = LabelEncoder()\n",
    "le_Pattern = LabelEncoder()\n",
    "le_HasName = LabelEncoder()\n",
    "\n",
    "le_OutcomeType.fit(all_df.loc['train', 'OutcomeType'])\n",
    "le_SimpleBreed1.fit(all_df.SimpleBreed1)\n",
    "le_SimpleColor1.fit(all_df.SimpleColor1)\n",
    "le_Sex.fit(all_df.Sex)\n",
    "le_Intact.fit(all_df.Intact)\n",
    "le_Mix.fit(all_df.Mix)\n",
    "le_Pattern.fit(all_df.Pattern)\n",
    "le_HasName.fit(all_df.HasName)\n",
    "\n",
    "new_df.loc['train', 'OutcomeType'] = le_OutcomeType.transform(all_df.loc['train', 'OutcomeType'])\n",
    "new_df.SimpleBreed1 = le_SimpleBreed1.transform(all_df.SimpleBreed1)\n",
    "new_df.SimpleColor1 = le_SimpleColor1.transform(all_df.SimpleColor1)\n",
    "new_df.Sex = le_Sex.transform(all_df.Sex)\n",
    "new_df.Intact = le_Intact.transform(all_df.Intact)\n",
    "new_df.Mix = le_Mix.transform(all_df.Mix)\n",
    "new_df.Pattern = le_Pattern.transform(all_df.Pattern)\n",
    "new_df.HasName = le_HasName.transform(all_df.HasName)"
   ]
  },
  {
   "cell_type": "code",
   "execution_count": 23,
   "metadata": {
    "collapsed": false,
    "deletable": true,
    "editable": true
   },
   "outputs": [
    {
     "data": {
      "text/html": [
       "<div>\n",
       "<table border=\"1\" class=\"dataframe\">\n",
       "  <thead>\n",
       "    <tr style=\"text-align: right;\">\n",
       "      <th></th>\n",
       "      <th></th>\n",
       "      <th>AgeuponOutcome</th>\n",
       "      <th>AnimalID</th>\n",
       "      <th>AnimalType</th>\n",
       "      <th>Breed</th>\n",
       "      <th>Color</th>\n",
       "      <th>DateTime</th>\n",
       "      <th>Name</th>\n",
       "      <th>OutcomeSubtype</th>\n",
       "      <th>OutcomeType</th>\n",
       "      <th>SexuponOutcome</th>\n",
       "      <th>Sex</th>\n",
       "      <th>Intact</th>\n",
       "      <th>Mix</th>\n",
       "      <th>SimpleBreed</th>\n",
       "      <th>SimpleBreed1</th>\n",
       "      <th>Pattern</th>\n",
       "      <th>SimpleColor</th>\n",
       "      <th>SimpleColor1</th>\n",
       "      <th>HasName</th>\n",
       "      <th>AgeinDays</th>\n",
       "    </tr>\n",
       "  </thead>\n",
       "  <tbody>\n",
       "    <tr>\n",
       "      <th rowspan=\"5\" valign=\"top\">train</th>\n",
       "      <th>0</th>\n",
       "      <td>1 year</td>\n",
       "      <td>A671945</td>\n",
       "      <td>Dog</td>\n",
       "      <td>Shetland Sheepdog Mix</td>\n",
       "      <td>Brown/White</td>\n",
       "      <td>2014-02-12 18:22:00</td>\n",
       "      <td>Hambone</td>\n",
       "      <td>NaN</td>\n",
       "      <td>3</td>\n",
       "      <td>Neutered Male</td>\n",
       "      <td>1</td>\n",
       "      <td>0</td>\n",
       "      <td>1</td>\n",
       "      <td>Shetland Sheepdog</td>\n",
       "      <td>194</td>\n",
       "      <td>0</td>\n",
       "      <td>Brown/White</td>\n",
       "      <td>4</td>\n",
       "      <td>1</td>\n",
       "      <td>365.25</td>\n",
       "    </tr>\n",
       "    <tr>\n",
       "      <th>1</th>\n",
       "      <td>1 year</td>\n",
       "      <td>A656520</td>\n",
       "      <td>Cat</td>\n",
       "      <td>Domestic Shorthair Mix</td>\n",
       "      <td>Cream Tabby</td>\n",
       "      <td>2013-10-13 12:44:00</td>\n",
       "      <td>Emily</td>\n",
       "      <td>Suffering</td>\n",
       "      <td>2</td>\n",
       "      <td>Spayed Female</td>\n",
       "      <td>0</td>\n",
       "      <td>0</td>\n",
       "      <td>1</td>\n",
       "      <td>Domestic Shorthair</td>\n",
       "      <td>85</td>\n",
       "      <td>1</td>\n",
       "      <td>Cream</td>\n",
       "      <td>8</td>\n",
       "      <td>1</td>\n",
       "      <td>365.25</td>\n",
       "    </tr>\n",
       "    <tr>\n",
       "      <th>2</th>\n",
       "      <td>2 years</td>\n",
       "      <td>A686464</td>\n",
       "      <td>Dog</td>\n",
       "      <td>Pit Bull Mix</td>\n",
       "      <td>Blue/White</td>\n",
       "      <td>2015-01-31 12:28:00</td>\n",
       "      <td>Pearce</td>\n",
       "      <td>Foster</td>\n",
       "      <td>0</td>\n",
       "      <td>Neutered Male</td>\n",
       "      <td>1</td>\n",
       "      <td>0</td>\n",
       "      <td>1</td>\n",
       "      <td>Pit Bull</td>\n",
       "      <td>170</td>\n",
       "      <td>0</td>\n",
       "      <td>Blue/White</td>\n",
       "      <td>3</td>\n",
       "      <td>1</td>\n",
       "      <td>730.50</td>\n",
       "    </tr>\n",
       "    <tr>\n",
       "      <th>3</th>\n",
       "      <td>3 weeks</td>\n",
       "      <td>A683430</td>\n",
       "      <td>Cat</td>\n",
       "      <td>Domestic Shorthair Mix</td>\n",
       "      <td>Blue Cream</td>\n",
       "      <td>2014-07-11 19:09:00</td>\n",
       "      <td>NaN</td>\n",
       "      <td>Partner</td>\n",
       "      <td>4</td>\n",
       "      <td>Intact Male</td>\n",
       "      <td>1</td>\n",
       "      <td>1</td>\n",
       "      <td>1</td>\n",
       "      <td>Domestic Shorthair</td>\n",
       "      <td>85</td>\n",
       "      <td>0</td>\n",
       "      <td>Blue Cream</td>\n",
       "      <td>3</td>\n",
       "      <td>0</td>\n",
       "      <td>21.00</td>\n",
       "    </tr>\n",
       "    <tr>\n",
       "      <th>4</th>\n",
       "      <td>2 years</td>\n",
       "      <td>A667013</td>\n",
       "      <td>Dog</td>\n",
       "      <td>Lhasa Apso/Miniature Poodle</td>\n",
       "      <td>Tan</td>\n",
       "      <td>2013-11-15 12:52:00</td>\n",
       "      <td>NaN</td>\n",
       "      <td>Partner</td>\n",
       "      <td>4</td>\n",
       "      <td>Neutered Male</td>\n",
       "      <td>1</td>\n",
       "      <td>0</td>\n",
       "      <td>1</td>\n",
       "      <td>Lhasa Apso/Miniature Poodle</td>\n",
       "      <td>136</td>\n",
       "      <td>0</td>\n",
       "      <td>Tan</td>\n",
       "      <td>23</td>\n",
       "      <td>0</td>\n",
       "      <td>730.50</td>\n",
       "    </tr>\n",
       "  </tbody>\n",
       "</table>\n",
       "</div>"
      ],
      "text/plain": [
       "        AgeuponOutcome AnimalID AnimalType                        Breed  \\\n",
       "train 0         1 year  A671945        Dog        Shetland Sheepdog Mix   \n",
       "      1         1 year  A656520        Cat       Domestic Shorthair Mix   \n",
       "      2        2 years  A686464        Dog                 Pit Bull Mix   \n",
       "      3        3 weeks  A683430        Cat       Domestic Shorthair Mix   \n",
       "      4        2 years  A667013        Dog  Lhasa Apso/Miniature Poodle   \n",
       "\n",
       "               Color             DateTime     Name OutcomeSubtype OutcomeType  \\\n",
       "train 0  Brown/White  2014-02-12 18:22:00  Hambone            NaN           3   \n",
       "      1  Cream Tabby  2013-10-13 12:44:00    Emily      Suffering           2   \n",
       "      2   Blue/White  2015-01-31 12:28:00   Pearce         Foster           0   \n",
       "      3   Blue Cream  2014-07-11 19:09:00      NaN        Partner           4   \n",
       "      4          Tan  2013-11-15 12:52:00      NaN        Partner           4   \n",
       "\n",
       "        SexuponOutcome  Sex  Intact  Mix                  SimpleBreed  \\\n",
       "train 0  Neutered Male    1       0    1            Shetland Sheepdog   \n",
       "      1  Spayed Female    0       0    1           Domestic Shorthair   \n",
       "      2  Neutered Male    1       0    1                     Pit Bull   \n",
       "      3    Intact Male    1       1    1           Domestic Shorthair   \n",
       "      4  Neutered Male    1       0    1  Lhasa Apso/Miniature Poodle   \n",
       "\n",
       "         SimpleBreed1  Pattern  SimpleColor  SimpleColor1  HasName  AgeinDays  \n",
       "train 0           194        0  Brown/White             4        1     365.25  \n",
       "      1            85        1        Cream             8        1     365.25  \n",
       "      2           170        0   Blue/White             3        1     730.50  \n",
       "      3            85        0   Blue Cream             3        0      21.00  \n",
       "      4           136        0          Tan            23        0     730.50  "
      ]
     },
     "execution_count": 23,
     "metadata": {},
     "output_type": "execute_result"
    }
   ],
   "source": [
    "new_df.head()"
   ]
  },
  {
   "cell_type": "code",
   "execution_count": 22,
   "metadata": {
    "collapsed": false,
    "deletable": true,
    "editable": true
   },
   "outputs": [
    {
     "data": {
      "text/plain": [
       "LabelEncoder()"
      ]
     },
     "execution_count": 22,
     "metadata": {},
     "output_type": "execute_result"
    }
   ],
   "source": [
    "le_OutcomeType.fit(all_df.loc['train', 'OutcomeType'])\n",
    "le_SimpleBreed1.fit(all_df.SimpleBreed1)\n",
    "le_SimpleColor1.fit(all_df.SimpleColor1)\n",
    "le_Sex.fit(all_df.Sex)\n",
    "le_Intact.fit(all_df.Intact)\n",
    "le_Mix.fit(all_df.Mix)\n",
    "le_Pattern.fit(all_df.Pattern)\n",
    "le_HasName.fit(all_df.HasName)"
   ]
  },
  {
   "cell_type": "markdown",
   "metadata": {
    "deletable": true,
    "editable": true
   },
   "source": [
    "It is obvious cats and dogs should use different models.\n",
    "\n",
    "Making Age model (for cats)"
   ]
  },
  {
   "cell_type": "code",
   "execution_count": 23,
   "metadata": {
    "collapsed": true,
    "deletable": true,
    "editable": true
   },
   "outputs": [],
   "source": [
    "features = new_df.loc[pd.notnull(new_df.AgeinDays) & (new_df.AnimalType == 'Cat'), ['SimpleBreed1', 'SimpleColor1', 'Sex', 'Intact', 'Mix', 'Pattern', 'HasName']]\n",
    "target = new_df.loc[pd.notnull(new_df.AgeinDays) & (new_df.AnimalType == 'Cat'), 'AgeinDays']"
   ]
  },
  {
   "cell_type": "code",
   "execution_count": 24,
   "metadata": {
    "collapsed": false,
    "deletable": true,
    "editable": true
   },
   "outputs": [
    {
     "name": "stdout",
     "output_type": "stream",
     "text": [
      "Best Score\n",
      "-824753.895686\n",
      "Best Params\n",
      "{'min_samples_split': 2, 'min_samples_leaf': 8, 'max_features': 'sqrt'}\n"
     ]
    }
   ],
   "source": [
    "parameters = {'max_features':('sqrt', 'log2', 'auto'), 'min_samples_split': list(range(2,15)), 'min_samples_leaf': list(range(1,10))}\n",
    "\n",
    "GSCV = GridSearchCV(RandomForestRegressor(random_state = 1, n_jobs=-1), parameters, cv=10, scoring='neg_mean_squared_error', n_jobs=-1, verbose = 0)\n",
    "GSCV.fit(features, target)\n",
    "\n",
    "print('Best Score')\n",
    "print(GSCV.best_score_)\n",
    "print('Best Params')\n",
    "print(GSCV.best_params_)"
   ]
  },
  {
   "cell_type": "code",
   "execution_count": 24,
   "metadata": {
    "collapsed": false,
    "deletable": true,
    "editable": true
   },
   "outputs": [
    {
     "data": {
      "text/plain": [
       "<module 'matplotlib.pyplot' from '/usr/local/lib/python3.5/dist-packages/matplotlib/pyplot.py'>"
      ]
     },
     "execution_count": 24,
     "metadata": {},
     "output_type": "execute_result"
    },
    {
     "name": "stderr",
     "output_type": "stream",
     "text": [
      "/usr/local/lib/python3.5/dist-packages/matplotlib/font_manager.py:1297: UserWarning: findfont: Font family ['sans-serif'] not found. Falling back to DejaVu Sans\n",
      "  (prop.get_family(), self.defaultFamily[fontext]))\n"
     ]
    },
    {
     "data": {
      "image/png": "[encoded data removed]",
      "text/plain": [
       "<matplotlib.figure.Figure at 0x7f65f1f68710>"
      ]
     },
     "metadata": {},
     "output_type": "display_data"
    }
   ],
   "source": [
    "plot_learning_curve(RandomForestRegressor(n_estimators = 100, random_state = 1, max_features = 'sqrt', min_samples_split = 2, min_samples_leaf = 8), \n",
    "                    title = 'learning curve', X = features, y = target, cv = 10, scoring = 'neg_mean_squared_error', verbose = 0)"
   ]
  },
  {
   "cell_type": "code",
   "execution_count": 25,
   "metadata": {
    "collapsed": false,
    "deletable": true,
    "editable": true
   },
   "outputs": [
    {
     "data": {
      "text/plain": [
       "RandomForestRegressor(bootstrap=True, criterion='mse', max_depth=None,\n",
       "           max_features='sqrt', max_leaf_nodes=None,\n",
       "           min_impurity_split=1e-07, min_samples_leaf=8,\n",
       "           min_samples_split=2, min_weight_fraction_leaf=0.0,\n",
       "           n_estimators=100, n_jobs=1, oob_score=False, random_state=1,\n",
       "           verbose=0, warm_start=False)"
      ]
     },
     "execution_count": 25,
     "metadata": {},
     "output_type": "execute_result"
    }
   ],
   "source": [
    "model = RandomForestRegressor(n_estimators = 100, random_state = 1, max_features = 'sqrt', min_samples_split = 2, min_samples_leaf = 8)\n",
    "model.fit(features, target)"
   ]
  },
  {
   "cell_type": "code",
   "execution_count": 26,
   "metadata": {
    "collapsed": true,
    "deletable": true,
    "editable": true
   },
   "outputs": [],
   "source": [
    "X_test = new_df.loc[new_df.AgeinDays.isnull() & (new_df.AnimalType == 'Cat'), ['SimpleBreed1', 'SimpleColor1', 'Sex', 'Intact', 'Mix', 'Pattern', 'HasName']]"
   ]
  },
  {
   "cell_type": "code",
   "execution_count": 27,
   "metadata": {
    "collapsed": true,
    "deletable": true,
    "editable": true
   },
   "outputs": [],
   "source": [
    "y_pred = model.predict(X_test)\n",
    "new_df.loc[new_df.AgeinDays.isnull() & (new_df.AnimalType == 'Cat'), 'AgeinDays'] = y_pred"
   ]
  },
  {
   "cell_type": "markdown",
   "metadata": {
    "deletable": true,
    "editable": true
   },
   "source": [
    "Making Age model (for Dogs)"
   ]
  },
  {
   "cell_type": "code",
   "execution_count": 28,
   "metadata": {
    "collapsed": true,
    "deletable": true,
    "editable": true
   },
   "outputs": [],
   "source": [
    "features = new_df.loc[pd.notnull(new_df.AgeinDays) & (new_df.AnimalType == 'Dog'), ['SimpleBreed1', 'SimpleColor1', 'Sex', 'Intact', 'Mix', 'Pattern', 'HasName']]\n",
    "target = new_df.loc[pd.notnull(new_df.AgeinDays) & (new_df.AnimalType == 'Dog'), 'AgeinDays']"
   ]
  },
  {
   "cell_type": "code",
   "execution_count": 29,
   "metadata": {
    "collapsed": false,
    "deletable": true,
    "editable": true
   },
   "outputs": [
    {
     "name": "stdout",
     "output_type": "stream",
     "text": [
      "Best Score\n",
      "-1163100.222\n",
      "Best Params\n",
      "{'min_samples_split': 2, 'max_features': 'sqrt', 'min_samples_leaf': 9}\n"
     ]
    }
   ],
   "source": [
    "parameters = {'max_features':('sqrt', 'log2', 'auto'), 'min_samples_split': list(range(2,15)), 'min_samples_leaf': list(range(1,10))}\n",
    "\n",
    "GSCV = GridSearchCV(RandomForestRegressor(random_state = 1, n_jobs=-1), parameters, cv=10, scoring='neg_mean_squared_error', n_jobs=-1, verbose = 0)\n",
    "GSCV.fit(features, target)\n",
    "\n",
    "print('Best Score')\n",
    "print(GSCV.best_score_)\n",
    "print('Best Params')\n",
    "print(GSCV.best_params_)"
   ]
  },
  {
   "cell_type": "code",
   "execution_count": 30,
   "metadata": {
    "collapsed": false,
    "deletable": true,
    "editable": true
   },
   "outputs": [
    {
     "data": {
      "text/plain": [
       "<module 'matplotlib.pyplot' from '/usr/local/lib/python3.5/dist-packages/matplotlib/pyplot.py'>"
      ]
     },
     "execution_count": 30,
     "metadata": {},
     "output_type": "execute_result"
    },
    {
     "name": "stderr",
     "output_type": "stream",
     "text": [
      "/usr/local/lib/python3.5/dist-packages/matplotlib/font_manager.py:1297: UserWarning: findfont: Font family ['sans-serif'] not found. Falling back to DejaVu Sans\n",
      "  (prop.get_family(), self.defaultFamily[fontext]))\n"
     ]
    },
    {
     "data": {
      "image/png": "[encoded data removed]",
      "text/plain": [
       "<matplotlib.figure.Figure at 0x7f65f0b19198>"
      ]
     },
     "metadata": {},
     "output_type": "display_data"
    }
   ],
   "source": [
    "plot_learning_curve(RandomForestRegressor(n_estimators = 100, random_state = 1, max_features = 'sqrt', min_samples_split = 2, min_samples_leaf = 8), \n",
    "                    title = 'learning curve', X = features, y = target, cv = 10, scoring = 'neg_mean_squared_error', verbose = 0)"
   ]
  },
  {
   "cell_type": "code",
   "execution_count": 31,
   "metadata": {
    "collapsed": false,
    "deletable": true,
    "editable": true
   },
   "outputs": [
    {
     "data": {
      "text/plain": [
       "RandomForestRegressor(bootstrap=True, criterion='mse', max_depth=None,\n",
       "           max_features='sqrt', max_leaf_nodes=None,\n",
       "           min_impurity_split=1e-07, min_samples_leaf=8,\n",
       "           min_samples_split=2, min_weight_fraction_leaf=0.0,\n",
       "           n_estimators=100, n_jobs=1, oob_score=False, random_state=1,\n",
       "           verbose=0, warm_start=False)"
      ]
     },
     "execution_count": 31,
     "metadata": {},
     "output_type": "execute_result"
    }
   ],
   "source": [
    "model = RandomForestRegressor(n_estimators = 100, random_state = 1, max_features = 'sqrt', min_samples_split = 2, min_samples_leaf = 8)\n",
    "model.fit(features, target)"
   ]
  },
  {
   "cell_type": "code",
   "execution_count": 32,
   "metadata": {
    "collapsed": true,
    "deletable": true,
    "editable": true
   },
   "outputs": [],
   "source": [
    "X_test = new_df.loc[new_df.AgeinDays.isnull() & (new_df.AnimalType == 'Dog'), ['SimpleBreed1', 'SimpleColor1', 'Sex', 'Intact', 'Mix', 'Pattern', 'HasName']]"
   ]
  },
  {
   "cell_type": "code",
   "execution_count": 33,
   "metadata": {
    "collapsed": true,
    "deletable": true,
    "editable": true
   },
   "outputs": [],
   "source": [
    "y_pred = model.predict(X_test)\n",
    "new_df.loc[new_df.AgeinDays.isnull() & (new_df.AnimalType == 'Dog'), 'AgeinDays'] = y_pred"
   ]
  },
  {
   "cell_type": "markdown",
   "metadata": {
    "deletable": true,
    "editable": true
   },
   "source": [
    "## Machine Learning ##\n",
    "\n",
    "First for cats"
   ]
  },
  {
   "cell_type": "code",
   "execution_count": 35,
   "metadata": {
    "collapsed": true,
    "deletable": true,
    "editable": true
   },
   "outputs": [],
   "source": [
    "mask = new_df['AnimalType'] == 'Cat'\n",
    "\n",
    "features = new_df.loc[pd.IndexSlice[['train'], mask], ['SimpleBreed1', 'SimpleColor1', 'Sex', 'Intact', 'Mix', 'Pattern', 'HasName', 'AgeinDays']]\n",
    "target = list(new_df.loc[pd.IndexSlice[['train'], mask], 'OutcomeType'].values)"
   ]
  },
  {
   "cell_type": "code",
   "execution_count": 36,
   "metadata": {
    "collapsed": false,
    "deletable": true,
    "editable": true,
    "scrolled": true
   },
   "outputs": [
    {
     "name": "stdout",
     "output_type": "stream",
     "text": [
      "Best Score\n",
      "-0.683040438668\n",
      "Best Params\n",
      "{'min_samples_split': 2, 'max_features': 'sqrt', 'min_samples_leaf': 9}\n"
     ]
    }
   ],
   "source": [
    "parameters = {'max_features':('sqrt', 'log2', 'auto'), 'min_samples_split': list(range(2,15)), 'min_samples_leaf': list(range(1,10))}\n",
    "\n",
    "GSCV = GridSearchCV(RandomForestClassifier(random_state = 1, n_jobs=-1), parameters, cv=10, scoring='neg_log_loss', n_jobs=-1, verbose=0)\n",
    "GSCV.fit(features, target)\n",
    "\n",
    "print('Best Score')\n",
    "print(GSCV.best_score_)\n",
    "print('Best Params')\n",
    "print(GSCV.best_params_)"
   ]
  },
  {
   "cell_type": "code",
   "execution_count": 38,
   "metadata": {
    "collapsed": false,
    "deletable": true,
    "editable": true
   },
   "outputs": [
    {
     "data": {
      "text/plain": [
       "RandomForestClassifier(bootstrap=True, class_weight=None, criterion='gini',\n",
       "            max_depth=None, max_features='sqrt', max_leaf_nodes=None,\n",
       "            min_impurity_split=1e-07, min_samples_leaf=9,\n",
       "            min_samples_split=2, min_weight_fraction_leaf=0.0,\n",
       "            n_estimators=100, n_jobs=1, oob_score=False, random_state=1,\n",
       "            verbose=0, warm_start=False)"
      ]
     },
     "execution_count": 38,
     "metadata": {},
     "output_type": "execute_result"
    }
   ],
   "source": [
    "model = RandomForestClassifier(n_estimators = 100, random_state = 1, max_features = 'sqrt', min_samples_split = 2, min_samples_leaf = 9)\n",
    "model.fit(features, target)"
   ]
  },
  {
   "cell_type": "code",
   "execution_count": 39,
   "metadata": {
    "collapsed": false,
    "deletable": true,
    "editable": true
   },
   "outputs": [
    {
     "data": {
      "text/plain": [
       "array([ 0.01337512,  0.0208259 ,  0.03808782,  0.44042717,  0.00087185,\n",
       "        0.00416693,  0.15205151,  0.3301937 ])"
      ]
     },
     "execution_count": 39,
     "metadata": {},
     "output_type": "execute_result"
    }
   ],
   "source": [
    "model.feature_importances_"
   ]
  },
  {
   "cell_type": "code",
   "execution_count": 40,
   "metadata": {
    "collapsed": true,
    "deletable": true,
    "editable": true
   },
   "outputs": [],
   "source": [
    "mask = new_df['AnimalType'] == 'Cat'\n",
    "\n",
    "X_test = new_df.loc[pd.IndexSlice[['test'], mask], ['SimpleBreed1', 'SimpleColor1', 'Sex', 'Intact', 'Mix', 'Pattern', 'HasName', 'AgeinDays']]"
   ]
  },
  {
   "cell_type": "code",
   "execution_count": 42,
   "metadata": {
    "collapsed": true,
    "deletable": true,
    "editable": true
   },
   "outputs": [],
   "source": [
    "y_pred_cat = model.predict_proba(X_test)\n",
    "\n",
    "y_df = pd.DataFrame(data=y_pred_cat, index=X_test.index)"
   ]
  },
  {
   "cell_type": "markdown",
   "metadata": {
    "deletable": true,
    "editable": true
   },
   "source": [
    "Now for the dogs"
   ]
  },
  {
   "cell_type": "code",
   "execution_count": 43,
   "metadata": {
    "collapsed": true,
    "deletable": true,
    "editable": true
   },
   "outputs": [],
   "source": [
    "mask = new_df['AnimalType'] == 'Dog'\n",
    "\n",
    "features = new_df.loc[pd.IndexSlice[['train'], mask], ['SimpleBreed1', 'SimpleColor1', 'Sex', 'Intact', 'Mix', 'Pattern', 'HasName', 'AgeinDays']]\n",
    "target = list(new_df.loc[pd.IndexSlice[['train'], mask], 'OutcomeType'].values)"
   ]
  },
  {
   "cell_type": "code",
   "execution_count": 44,
   "metadata": {
    "collapsed": false,
    "deletable": true,
    "editable": true
   },
   "outputs": [
    {
     "name": "stdout",
     "output_type": "stream",
     "text": [
      "Best Score\n",
      "-1.0319587275\n",
      "Best Params\n",
      "{'min_samples_split': 2, 'max_features': 'sqrt', 'min_samples_leaf': 9}\n"
     ]
    }
   ],
   "source": [
    "parameters = {'max_features':('sqrt', 'log2', 'auto'), 'min_samples_split': list(range(2,15)), 'min_samples_leaf': list(range(1,10))}\n",
    "\n",
    "GSCV = GridSearchCV(RandomForestClassifier(random_state = 1, n_jobs=-1), parameters, cv=10, scoring='neg_log_loss', n_jobs=-1, verbose=0)\n",
    "GSCV.fit(features, target)\n",
    "\n",
    "print('Best Score')\n",
    "print(GSCV.best_score_)\n",
    "print('Best Params')\n",
    "print(GSCV.best_params_)"
   ]
  },
  {
   "cell_type": "code",
   "execution_count": 47,
   "metadata": {
    "collapsed": false,
    "deletable": true,
    "editable": true
   },
   "outputs": [
    {
     "data": {
      "text/plain": [
       "RandomForestClassifier(bootstrap=True, class_weight=None, criterion='gini',\n",
       "            max_depth=None, max_features='sqrt', max_leaf_nodes=None,\n",
       "            min_impurity_split=1e-07, min_samples_leaf=9,\n",
       "            min_samples_split=2, min_weight_fraction_leaf=0.0,\n",
       "            n_estimators=100, n_jobs=1, oob_score=False, random_state=1,\n",
       "            verbose=0, warm_start=False)"
      ]
     },
     "execution_count": 47,
     "metadata": {},
     "output_type": "execute_result"
    }
   ],
   "source": [
    "model = RandomForestClassifier(n_estimators = 100, random_state = 1, max_features = 'sqrt', min_samples_split = 2, min_samples_leaf = 9)\n",
    "model.fit(features, target)"
   ]
  },
  {
   "cell_type": "code",
   "execution_count": 48,
   "metadata": {
    "collapsed": false,
    "deletable": true,
    "editable": true
   },
   "outputs": [
    {
     "data": {
      "text/plain": [
       "array([ 0.14577304,  0.07649413,  0.0210664 ,  0.33433831,  0.01357419,\n",
       "        0.        ,  0.09528268,  0.31347124])"
      ]
     },
     "execution_count": 48,
     "metadata": {},
     "output_type": "execute_result"
    }
   ],
   "source": [
    "model.feature_importances_"
   ]
  },
  {
   "cell_type": "code",
   "execution_count": 49,
   "metadata": {
    "collapsed": true,
    "deletable": true,
    "editable": true
   },
   "outputs": [],
   "source": [
    "mask = new_df['AnimalType'] == 'Dog'\n",
    "\n",
    "X_test = new_df.loc[pd.IndexSlice[['test'], mask], ['SimpleBreed1', 'SimpleColor1', 'Sex', 'Intact', 'Mix', 'Pattern', 'HasName', 'AgeinDays']]"
   ]
  },
  {
   "cell_type": "code",
   "execution_count": 54,
   "metadata": {
    "collapsed": true,
    "deletable": true,
    "editable": true
   },
   "outputs": [],
   "source": [
    "y_pred_dog = model.predict_proba(X_test)\n",
    "\n",
    "y_df_dog = pd.DataFrame(data=y_pred_dog, index=X_test.index)"
   ]
  },
  {
   "cell_type": "code",
   "execution_count": 55,
   "metadata": {
    "collapsed": false,
    "deletable": true,
    "editable": true
   },
   "outputs": [],
   "source": [
    "y_df_final = y_df.append(y_df_dog)\n",
    "y_df_final.sort_index(inplace=True)\n",
    "y_df_final = y_df_final.reset_index(drop=True)"
   ]
  },
  {
   "cell_type": "code",
   "execution_count": 60,
   "metadata": {
    "collapsed": false,
    "deletable": true,
    "editable": true
   },
   "outputs": [
    {
     "data": {
      "text/html": [
       "<div>\n",
       "<table border=\"1\" class=\"dataframe\">\n",
       "  <thead>\n",
       "    <tr style=\"text-align: right;\">\n",
       "      <th></th>\n",
       "      <th>ID</th>\n",
       "      <th>Adoption</th>\n",
       "      <th>Died</th>\n",
       "      <th>Euthanasia</th>\n",
       "      <th>Return_to_owner</th>\n",
       "      <th>Transfer</th>\n",
       "    </tr>\n",
       "  </thead>\n",
       "  <tbody>\n",
       "    <tr>\n",
       "      <th>0</th>\n",
       "      <td>1.0</td>\n",
       "      <td>0.103366</td>\n",
       "      <td>0.001572</td>\n",
       "      <td>0.046163</td>\n",
       "      <td>0.251350</td>\n",
       "      <td>0.597548</td>\n",
       "    </tr>\n",
       "    <tr>\n",
       "      <th>1</th>\n",
       "      <td>2.0</td>\n",
       "      <td>0.103366</td>\n",
       "      <td>0.001572</td>\n",
       "      <td>0.046163</td>\n",
       "      <td>0.251350</td>\n",
       "      <td>0.597548</td>\n",
       "    </tr>\n",
       "    <tr>\n",
       "      <th>2</th>\n",
       "      <td>3.0</td>\n",
       "      <td>0.395876</td>\n",
       "      <td>0.015644</td>\n",
       "      <td>0.038071</td>\n",
       "      <td>0.299283</td>\n",
       "      <td>0.251126</td>\n",
       "    </tr>\n",
       "    <tr>\n",
       "      <th>3</th>\n",
       "      <td>4.0</td>\n",
       "      <td>0.395876</td>\n",
       "      <td>0.015644</td>\n",
       "      <td>0.038071</td>\n",
       "      <td>0.299283</td>\n",
       "      <td>0.251126</td>\n",
       "    </tr>\n",
       "    <tr>\n",
       "      <th>4</th>\n",
       "      <td>5.0</td>\n",
       "      <td>0.122484</td>\n",
       "      <td>0.004445</td>\n",
       "      <td>0.049123</td>\n",
       "      <td>0.132563</td>\n",
       "      <td>0.691386</td>\n",
       "    </tr>\n",
       "  </tbody>\n",
       "</table>\n",
       "</div>"
      ],
      "text/plain": [
       "    ID  Adoption      Died  Euthanasia  Return_to_owner  Transfer\n",
       "0  1.0  0.103366  0.001572    0.046163         0.251350  0.597548\n",
       "1  2.0  0.103366  0.001572    0.046163         0.251350  0.597548\n",
       "2  3.0  0.395876  0.015644    0.038071         0.299283  0.251126\n",
       "3  4.0  0.395876  0.015644    0.038071         0.299283  0.251126\n",
       "4  5.0  0.122484  0.004445    0.049123         0.132563  0.691386"
      ]
     },
     "execution_count": 60,
     "metadata": {},
     "output_type": "execute_result"
    }
   ],
   "source": [
    "y_df_final.insert(0, 'ID', df_test.AnimalID)\n",
    "y_df_final.rename(columns = {0:'Adoption'}, inplace=True)\n",
    "y_df_final.rename(columns = {1:'Died'}, inplace=True)\n",
    "y_df_final.rename(columns = {2:'Euthanasia'}, inplace=True)\n",
    "y_df_final.rename(columns = {3:'Return_to_owner'}, inplace=True)\n",
    "y_df_final.rename(columns = {4:'Transfer'}, inplace=True)\n",
    "y_df_final.head()"
   ]
  },
  {
   "cell_type": "code",
   "execution_count": 61,
   "metadata": {
    "collapsed": true,
    "deletable": true,
    "editable": true
   },
   "outputs": [],
   "source": [
    "y_df_final.to_csv('submission.csv', index=False)"
   ]
  }
 ],
 "metadata": {
  "kernelspec": {
   "display_name": "Python 3",
   "language": "python",
   "name": "python3"
  },
  "language_info": {
   "codemirror_mode": {
    "name": "ipython",
    "version": 3
   },
   "file_extension": ".py",
   "mimetype": "text/x-python",
   "name": "python",
   "nbconvert_exporter": "python",
   "pygments_lexer": "ipython3",
   "version": "3.5.2"
  }
 },
 "nbformat": 4,
 "nbformat_minor": 0
}
